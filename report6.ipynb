{
 "cells": [
  {
   "cell_type": "markdown",
   "id": "4540dc5f-efce-480b-8564-3f17aff57950",
   "metadata": {},
   "source": [
    "# 数値解析第６回課題"
   ]
  },
  {
   "cell_type": "markdown",
   "id": "9710c53c-4a31-456f-a969-99a85365ae26",
   "metadata": {},
   "source": [
    "### 学籍番号：08B22182　氏名：平山聖輝"
   ]
  },
  {
   "cell_type": "markdown",
   "id": "2c46a801-bb32-4c0d-8f4f-11667f5f56eb",
   "metadata": {},
   "source": [
    "課題6"
   ]
  },
  {
   "cell_type": "markdown",
   "id": "0bb4dd2e-076e-4a9c-8394-48c1f6c46379",
   "metadata": {},
   "source": [
    "$$\n",
    "f(x) = x^3 - 8x^2 - 15x + 54 = 0\n",
    "$$"
   ]
  },
  {
   "cell_type": "markdown",
   "id": "5f7ca613-074e-44b4-90d6-f6b6febb937d",
   "metadata": {},
   "source": [
    "の解 $ x $ をニュートン・ラフソン法で求めることを考える． <br>\n",
    "初期値を $ x^{(0)} = 1 $ とした場合と，$ x^{(0)} = -1 $ とした場合の両方について，１回目の繰り返しの近似値 $ x^{(1)} $ および２回目の繰り返しの近似値 $ x^{(2)} $ を求めよ．"
   ]
  },
  {
   "cell_type": "markdown",
   "id": "5f87608b-2ef6-45c1-a657-44acd3e9d3bf",
   "metadata": {},
   "source": [
    "ニュートン・ラフソン法とは\n",
    "$$ f(x) = 0 $$\n",
    "の近似解を $ x^{(k)} $ ，真の解 $ x $ との誤差を $ h^{(k)} = x - x^{(k)} $ としたとき，\n",
    "$$ f(x) = 0 $$\n",
    "$$ \\rightarrow f(x^{(k)} + h^{(k)}) = 0 $$\n",
    "となるから $ x^{(k)} $ 周りでテイラー展開すると\n",
    "$$\n",
    "\\begin{align}\n",
    "0 &= f(x^{(k)} + h^{(k)}) \\\\\n",
    " &= f(x^{(k)}) + f'(x^{(k)})h^{(k)} + \\frac{1}{2!}f''(x^{(k)})(h^{(k)})^2 + ... \\\\\n",
    " &\\approx f(x^{(k)}) + f'(x^{(k)})h^{(k)}\n",
    "\\end{align}\n",
    "$$\n",
    "$$ \\therefore h^{(k)} = -\\frac{f(x^{(k)})}{f'(x^{(k)})} $$\n",
    "と近似できることから更新則を\n",
    "$$ x^{(k+1)} = x^{(k)} +\\frac{f(x^{(k)})}{f'(x^{(k)})} $$\n",
    "として繰り返し計算することで解を求める方法である．講義でもあったが誤差 $ h^{(k)} $ が二乗で減少するから収束が速いのが特徴である．"
   ]
  },
  {
   "cell_type": "markdown",
   "id": "e7d63d95-bcdc-4f4f-a20c-3afd916b96aa",
   "metadata": {},
   "source": [
    "### 初期値 $ x^{(0)} = 1 $ の場合"
   ]
  },
  {
   "cell_type": "code",
   "execution_count": 147,
   "id": "2342cf34-d296-4b83-bd8d-40ddff3d7084",
   "metadata": {},
   "outputs": [],
   "source": [
    "# Sympyの導入\n",
    "import sympy as sp\n",
    "x = sp.Symbol('x')\n",
    "\n",
    "# 数式f(x), f'(x)の定義\n",
    "f_s = x**3 - 8*x**2 - 15*x + 54\n",
    "f_dot_s = sp.diff(f_s)"
   ]
  },
  {
   "cell_type": "code",
   "execution_count": 149,
   "id": "8f1214c5-47b5-4d60-bddf-12f8ec8441e6",
   "metadata": {},
   "outputs": [
    {
     "data": {
      "text/latex": [
       "$\\displaystyle x^{3} - 8 x^{2} - 15 x + 54$"
      ],
      "text/plain": [
       "x**3 - 8*x**2 - 15*x + 54"
      ]
     },
     "metadata": {},
     "output_type": "display_data"
    },
    {
     "data": {
      "text/latex": [
       "$\\displaystyle 3 x^{2} - 16 x - 15$"
      ],
      "text/plain": [
       "3*x**2 - 16*x - 15"
      ]
     },
     "metadata": {},
     "output_type": "display_data"
    }
   ],
   "source": [
    "display(f_s)\n",
    "display(f_dot_s)"
   ]
  },
  {
   "cell_type": "code",
   "execution_count": 7,
   "id": "3786c70a-665e-4078-8f4c-c5320ed7ff1e",
   "metadata": {},
   "outputs": [],
   "source": [
    "#sympyで計算した関数を再定義\n",
    "def f(x):\n",
    "    return x**3 - 8*x**2 - 15*x + 54\n",
    "\n",
    "def f_dot(x):\n",
    "    return 3*x**2 - 16*x - 15"
   ]
  },
  {
   "cell_type": "code",
   "execution_count": 153,
   "id": "4cd3cd66-ff95-4b5f-ad2d-b24ec0bffb73",
   "metadata": {},
   "outputs": [],
   "source": [
    "x0_1 = 1.0"
   ]
  },
  {
   "cell_type": "code",
   "execution_count": 155,
   "id": "6cf5c1dd-65f7-4333-9111-20ff8793800b",
   "metadata": {},
   "outputs": [],
   "source": [
    "def NewtonRaphson(x0, times):\n",
    "    x=[] #解を格納する配列\n",
    "    h=[] #誤差を格納する配列\n",
    "    x.append(x0) \n",
    "    \n",
    "    for i in range(1,times):\n",
    "        h_new = -f(x[i-1])/f_dot(x[i-1]) #forの始まりが1だからi-1\n",
    "        x_new = x[i-1] + h_new #更新則\n",
    "        h.append(h_new)\n",
    "        x.append(x_new)\n",
    "        \n",
    "    return x,h"
   ]
  },
  {
   "cell_type": "code",
   "execution_count": 157,
   "id": "e31e3f18-54e9-4043-8b18-99e52b0b6669",
   "metadata": {},
   "outputs": [
    {
     "name": "stdout",
     "output_type": "stream",
     "text": [
      "x_1= [1.0, 2.142857142857143, 2.000985221674877]\n",
      "\n",
      "h_1= [1.1428571428571428, -0.1418719211822658]\n"
     ]
    }
   ],
   "source": [
    "x_1, h_1 = NewtonRaphson(x0_1, 3)\n",
    "print(\"x_1=\", x_1) #x_1は初期値x0_1から値がある配列\n",
    "print(\"\\nh_1=\", h_1) #h_1はx_1[1]を作るときに計算されるからx_1より要素が一つ少ない"
   ]
  },
  {
   "cell_type": "markdown",
   "id": "60d99b38-267d-4070-bced-09da9888b730",
   "metadata": {},
   "source": [
    "よってニュートン・ラフソン法による解はそれぞれ以下のようになった．\n",
    "$$ x^{(1)} = 2.142857142857143 $$\n",
    "$$ x^{(2)} = 2.000985221674877 $$"
   ]
  },
  {
   "cell_type": "markdown",
   "id": "a1aee736-390b-4667-a140-257b3d3b0584",
   "metadata": {},
   "source": [
    "### 初期値 $ x^{(0)} = -1 $ の場合"
   ]
  },
  {
   "cell_type": "markdown",
   "id": "c2386dde-883a-4472-9a40-b5c277f5297e",
   "metadata": {},
   "source": [
    "同様に初期値を変えて行う．"
   ]
  },
  {
   "cell_type": "code",
   "execution_count": 162,
   "id": "092ac895-53ae-4061-992e-d6321f50d517",
   "metadata": {},
   "outputs": [],
   "source": [
    "x0_2 = -1.0"
   ]
  },
  {
   "cell_type": "code",
   "execution_count": 164,
   "id": "c3e48a2a-151e-40ed-83f3-e46c7658397e",
   "metadata": {},
   "outputs": [
    {
     "name": "stdout",
     "output_type": "stream",
     "text": [
      "x_2= [-1.0, -16.0, -10.202180376610507]\n",
      "\n",
      "h_2= [-15.0, 5.797819623389494]\n"
     ]
    }
   ],
   "source": [
    "x_2, h_2 = NewtonRaphson(x0_2, 3)\n",
    "print(\"x_2=\", x_2)\n",
    "print(\"\\nh_2=\", h_2)"
   ]
  },
  {
   "cell_type": "markdown",
   "id": "77452a12-46d4-4da6-884f-a06ffcdb1540",
   "metadata": {},
   "source": [
    "よって初期値が$ -1.0 $のときは以下．\n",
    "$$ x^{(1)} = -16.0 $$\n",
    "$$ x^{(2)} = -10.20218037661610507 $$"
   ]
  },
  {
   "cell_type": "markdown",
   "id": "cbfbb9f0-4591-4bf0-b845-3d31ea5ceb35",
   "metadata": {},
   "source": [
    "### 両者の比較"
   ]
  },
  {
   "cell_type": "markdown",
   "id": "a00b3193-151d-47ea-9a10-f3e2b52013d3",
   "metadata": {},
   "source": [
    "まず初めにこの方程式の解をsympyにて確認する．"
   ]
  },
  {
   "cell_type": "code",
   "execution_count": 169,
   "id": "2f0a27c0-7dad-4693-a080-cec74ee89984",
   "metadata": {},
   "outputs": [
    {
     "data": {
      "text/plain": [
       "[-3, 2, 9]"
      ]
     },
     "execution_count": 169,
     "metadata": {},
     "output_type": "execute_result"
    }
   ],
   "source": [
    "sp.solve(f_s)"
   ]
  },
  {
   "cell_type": "markdown",
   "id": "badc3567-d54d-4f0d-aefe-cdc4da9249b0",
   "metadata": {},
   "source": [
    "三次方程式だから解が三つあるのは当たり前であるが，グラフで実際に近似している様子をそれぞれの初期値の場合から確かめてみる．初期値が\n",
    "$$  x^{(0)} = 1 $$\n",
    "のとき，"
   ]
  },
  {
   "cell_type": "code",
   "execution_count": 3,
   "id": "ce237059-77b5-418b-969e-6eaaf28dfbf6",
   "metadata": {},
   "outputs": [],
   "source": [
    "import numpy as np\n",
    "%matplotlib inline\n",
    "#%matplotlib nbagg\n",
    "import matplotlib.pyplot as plt\n",
    "import matplotlib.animation as animation\n",
    "from ipywidgets import interact"
   ]
  },
  {
   "cell_type": "code",
   "execution_count": 174,
   "id": "7dcefb21-7b2b-47a0-9fee-88439899b63c",
   "metadata": {},
   "outputs": [
    {
     "data": {
      "image/png": "[encoded data removed]",
      "text/plain": [
       "<Figure size 640x480 with 1 Axes>"
      ]
     },
     "metadata": {},
     "output_type": "display_data"
    }
   ],
   "source": [
    "x0_1 = 1.0\n",
    "xmin  = -3.0\n",
    "xmax = 3.0\n",
    "\n",
    "x1 =  np.linspace(xmin, xmax, 100)\n",
    "y1 = f(x1)\n",
    "\n",
    "fig1 = plt.figure(1)\n",
    "\n",
    "ims = []\n",
    "\n",
    "xp1=[] \n",
    "hp1=[]\n",
    "xp1.append(x0_1)\n",
    "    \n",
    "for i in range(1,4):\n",
    "    h_new = -f(xp1[i-1])/f_dot(xp1[i-1])\n",
    "    x_new = xp1[i-1]+h_new\n",
    "    hp1.append(h_new)\n",
    "    xp1.append(x_new)\n",
    " \n",
    "    im=plt.plot(x1, y1)\n",
    "    im=plt.hlines([0], xmin, xmax) \n",
    "    im=plt.plot( xp1[i-1], f(xp1[i-1]), marker=\"o\", markersize=8)\n",
    "    im=plt.plot(x_new, 0, marker=\"o\", markersize=8)\n",
    "    im=plt.plot([xp1[i-1], x_new], [f(xp1[i-1]), 0], linewidth=2)\n",
    "    ims.append(im)\n",
    "        \n",
    "ani = animation.ArtistAnimation(fig1, ims, interval=1000)\n",
    "plt.show()"
   ]
  },
  {
   "cell_type": "markdown",
   "id": "6705270b-1fe2-4cd1-a199-6776a998b48a",
   "metadata": {},
   "source": [
    "グラフをみるとわかる通り，解の一つである2に漸近している様子が確認できる．一方，初期値が\n",
    "$$ x^{(0)} = -1.0 $$\n",
    "のときは同様にプロットすると"
   ]
  },
  {
   "cell_type": "code",
   "execution_count": 9,
   "id": "c141437c-db7e-442a-8974-38cec23e673d",
   "metadata": {},
   "outputs": [
    {
     "data": {
      "image/png": "[encoded data removed]",
      "text/plain": [
       "<Figure size 640x480 with 1 Axes>"
      ]
     },
     "metadata": {},
     "output_type": "display_data"
    }
   ],
   "source": [
    "x0_2 = -1.0\n",
    "xmin  = -17\n",
    "xmax = 0\n",
    "\n",
    "x2 =  np.linspace(xmin, xmax, 100)\n",
    "y2 = f(x2)\n",
    "\n",
    "fig2 = plt.figure(1)\n",
    "\n",
    "ims = []\n",
    "\n",
    "xp2=[] \n",
    "hp2=[]\n",
    "xp2.append(x0_2)\n",
    "    \n",
    "for i in range(1,4):\n",
    "    h_new = -f(xp2[i-1])/f_dot(xp2[i-1])\n",
    "    x_new = xp2[i-1]+h_new\n",
    "    hp2.append(h_new)\n",
    "    xp2.append(x_new)\n",
    " \n",
    "    im=plt.plot(x2, y2)\n",
    "    im=plt.hlines([0], xmin, xmax) \n",
    "    im=plt.plot( xp2[i-1], f(xp2[i-1]), marker=\"o\", markersize=8)\n",
    "    im=plt.plot(x_new, 0, marker=\"o\", markersize=8)\n",
    "    im=plt.plot([xp2[i-1], x_new], [f(xp2[i-1]), 0], linewidth=2)\n",
    "    ims.append(im)\n",
    "        \n",
    "ani = animation.ArtistAnimation(fig2, ims, interval=1000)\n",
    "plt.show()"
   ]
  },
  {
   "cell_type": "markdown",
   "id": "e766f36c-43e3-49a1-b0d1-75d5c0c41859",
   "metadata": {},
   "source": [
    "$ x^{(1)} $ の位置が分かりにくいが，先の結果から $ x^{(1)} = -16 $ ということが分かっているため $-16$ から $-3$ に向かって収束することが予測できる．このように $ x^{(0)} $ における微分係数の絶対値が小さい（0に近いと）更新則の $ h^{(k)} $ が大きくなってしまうということが分かる例になっている．"
   ]
  }
 ],
 "metadata": {
  "kernelspec": {
   "display_name": "Python 3 (ipykernel)",
   "language": "python",
   "name": "python3"
  },
  "language_info": {
   "codemirror_mode": {
    "name": "ipython",
    "version": 3
   },
   "file_extension": ".py",
   "mimetype": "text/x-python",
   "name": "python",
   "nbconvert_exporter": "python",
   "pygments_lexer": "ipython3",
   "version": "3.12.4"
  }
 },
 "nbformat": 4,
 "nbformat_minor": 5
}
