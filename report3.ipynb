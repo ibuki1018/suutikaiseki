{
 "cells": [
  {
   "cell_type": "markdown",
   "id": "cde1abbb-ee8f-49cd-80cf-8642f4363573",
   "metadata": {},
   "source": [
    "# 数値解析第３回課題"
   ]
  },
  {
   "cell_type": "markdown",
   "id": "c8efc927-d0e4-404b-bf59-6a948fc45eae",
   "metadata": {},
   "source": [
    "### 学籍番号：08B22182　氏名：平山聖輝"
   ]
  },
  {
   "cell_type": "markdown",
   "id": "57377906-5a0e-4c1d-b816-de214299abd5",
   "metadata": {},
   "source": [
    "課題3：以下の行列の最大固有値 $ \\lambda $ を，冪乗法で求めようとしたときの，繰り返し計算1回目での $ \\lambda^{(0)} $ ，2回目の $ \\lambda^{(1)} $ を求めよ．"
   ]
  },
  {
   "cell_type": "markdown",
   "id": "99227b0e-e417-4780-9118-5e1363fdc4f6",
   "metadata": {},
   "source": [
    "$$\n",
    "A =  \\left(\\begin{array}{cc}  \n",
    "        4 & 2 \\\\ \n",
    "        1 & 5 \n",
    "     \\end{array}\\right)\n",
    "$$"
   ]
  },
  {
   "cell_type": "markdown",
   "id": "cccac3ee-80ae-48e9-904f-a46efd9c478d",
   "metadata": {},
   "source": [
    "ただし初期ベクトル $ x^{(0)} $ は，$ x^{(0)} = (1,0)^T $ とする．またmaxノルムとレイリー商を使った2通りの場合で求めること．"
   ]
  },
  {
   "cell_type": "markdown",
   "id": "09a1bdbd-4a5f-425e-91ee-c922bb13749c",
   "metadata": {},
   "source": [
    "### maxノルムを用いた場合"
   ]
  },
  {
   "cell_type": "code",
   "execution_count": 9,
   "id": "53d88e26-7fa9-4817-a131-f3fe036b8d91",
   "metadata": {},
   "outputs": [],
   "source": [
    "import numpy as np"
   ]
  },
  {
   "cell_type": "code",
   "execution_count": 11,
   "id": "fd5dc669-54c2-4239-8790-b99071a4ce75",
   "metadata": {},
   "outputs": [
    {
     "name": "stdout",
     "output_type": "stream",
     "text": [
      "A = \n",
      " [[4 2]\n",
      " [1 5]]\n",
      "x0 = \n",
      " [[1]\n",
      " [0]]\n"
     ]
    }
   ],
   "source": [
    "A = np.array([[4,2],[1,5]])\n",
    "x0 = np.array([[1],[0]])\n",
    "print(\"A = \\n\", A)\n",
    "print(\"x0 = \\n\", x0)"
   ]
  },
  {
   "cell_type": "markdown",
   "id": "abe94c34-e150-470b-804c-ae4fe4463caf",
   "metadata": {},
   "source": [
    "$ y^{(k)} = Ax^{(k)} $ を満たすように仮の変数 $ y^{(k)} $ を設定することで $ x^{(k+1)} $ を求める．ただしノルムはmaxノルムを使う．"
   ]
  },
  {
   "cell_type": "markdown",
   "id": "22e1042a-d353-4e5a-9570-f484a2f7e948",
   "metadata": {},
   "source": [
    "$$\n",
    "y^{(0)} = Ax^{(0)}\n",
    "$$\n",
    "$$\n",
    "x^{(1)} = \\frac{y^{(0)}}{\\|y^{(0)}\\|_{\\infty}}\n",
    "$$\n",
    "$$\n",
    "\\lambda^{(0)} = \\|Ax^{(0)}\\|_{\\infty}\n",
    "$$"
   ]
  },
  {
   "cell_type": "code",
   "execution_count": 41,
   "id": "08ff55ad-3362-4166-873f-549226b6d30d",
   "metadata": {},
   "outputs": [
    {
     "name": "stdout",
     "output_type": "stream",
     "text": [
      "x1 =\n",
      " [[1.  ]\n",
      " [0.25]]\n",
      "lambda0 =\n",
      " 4.0\n"
     ]
    }
   ],
   "source": [
    "y0 = A@x0\n",
    "lambda0 = np.linalg.norm(y0,np.inf)\n",
    "x1 = y0/np.linalg.norm(y0,np.inf)\n",
    "print(\"x1 =\\n\", x1)\n",
    "print(\"lambda0 =\\n\", lambda0)"
   ]
  },
  {
   "cell_type": "markdown",
   "id": "894ae675-6db6-4aec-a69b-69ed9d2a945c",
   "metadata": {},
   "source": [
    "よってmaxノルムを用いた固有ベクトルと固有値は以下"
   ]
  },
  {
   "cell_type": "markdown",
   "id": "16c65964-7d08-463c-9586-9914f3e36fef",
   "metadata": {},
   "source": [
    "$$\n",
    "\\begin{equation}\n",
    " x^{(1)} =\n",
    "    \\left(\n",
    "    \\begin{array}{c}\n",
    "    1.00 \\\\\n",
    "    0.25\n",
    "    \\end{array}\n",
    "    \\right)\n",
    "\\end{equation}\n",
    "$$\n",
    "$$\n",
    " \\lambda^{(0)} =4.0\n",
    " $$"
   ]
  },
  {
   "cell_type": "markdown",
   "id": "626d98e3-00c7-49ed-9e39-fb08e456531c",
   "metadata": {},
   "source": [
    "$ \\lambda^{(1)} $ も同様に求める．"
   ]
  },
  {
   "cell_type": "code",
   "execution_count": 44,
   "id": "225eda45-90ad-4c54-a59e-8f2850280a47",
   "metadata": {},
   "outputs": [
    {
     "name": "stdout",
     "output_type": "stream",
     "text": [
      "x2 =\n",
      " [[1. ]\n",
      " [0.5]]\n",
      "lambda1 =\n",
      " 4.5\n"
     ]
    }
   ],
   "source": [
    "y1 = A@x1\n",
    "lambda1 = np.linalg.norm(y1,np.inf)\n",
    "x2 = y1/lambda1\n",
    "print(\"x2 =\\n\", x2)\n",
    "print(\"lambda1 =\\n\", lambda1)"
   ]
  },
  {
   "cell_type": "markdown",
   "id": "42132713-6ed1-4f80-91f3-3ba4a6d01ad3",
   "metadata": {},
   "source": [
    "$$\n",
    "\\begin{equation}\n",
    " x^{(2)} =\n",
    "    \\left(\n",
    "    \\begin{array}{c}\n",
    "    1.00 \\\\\n",
    "    0.5\n",
    "    \\end{array}\n",
    "    \\right)\n",
    "\\end{equation}\n",
    "$$\n",
    "$$\n",
    "\\lambda^{(1)} = 4.5\n",
    "$$"
   ]
  },
  {
   "cell_type": "markdown",
   "id": "85ba6b6e-9565-4e7f-8bc2-5a905635663a",
   "metadata": {},
   "source": [
    "### レイリー商を用いる場合"
   ]
  },
  {
   "cell_type": "markdown",
   "id": "64da0ec8-615e-41b7-97fc-a681f5472e47",
   "metadata": {},
   "source": [
    "レイリー商では固有値 $ \\lambda^{(k)} $ を"
   ]
  },
  {
   "cell_type": "markdown",
   "id": "2312263e-7a8b-4a5c-9bbc-1c6091fdb183",
   "metadata": {},
   "source": [
    "$$\n",
    "\\lambda^{(k)} = \\|Ax^{(k)}\\|\n",
    "$$"
   ]
  },
  {
   "cell_type": "markdown",
   "id": "2352792e-551b-43c8-af4e-cdc83f1d337e",
   "metadata": {},
   "source": [
    "ではなく，レイリー商"
   ]
  },
  {
   "cell_type": "markdown",
   "id": "6fe275fd-c859-44ed-97cd-8727dcd604bc",
   "metadata": {},
   "source": [
    "$$\n",
    "R_A(x) = \\frac{(Ax^{(k)},x)}{\\|x\\|^2_2} = \\frac{x^TAx}{x^Tx}\n",
    "$$"
   ]
  },
  {
   "cell_type": "markdown",
   "id": "80aa363d-fce1-4a70-af05-92ed6008ecfe",
   "metadata": {},
   "source": [
    "を用いて計算すればよい．具体的には以下の手順で求める．"
   ]
  },
  {
   "cell_type": "markdown",
   "id": "96a26f11-9c84-4164-9c14-24363231f78c",
   "metadata": {},
   "source": [
    "$$\n",
    "y^{(0)} = Ax^{(0)}\n",
    "$$\n",
    "$$\n",
    "X^{(1)} = \\frac{y^{(0)}}{\\|y^{(0)}\\|_2}\n",
    "$$\n",
    "$$\n",
    "\\lambda'^{(0)} = \\frac{{x^{(0)}}^TAx^{(0)}}{{x^{(0)}}^Tx^{(0)}}\n",
    "$$"
   ]
  },
  {
   "cell_type": "code",
   "execution_count": 55,
   "id": "dc7a5886-29b0-4ae0-bdab-cf85bdb8108b",
   "metadata": {},
   "outputs": [
    {
     "name": "stdout",
     "output_type": "stream",
     "text": [
      "X1 =\n",
      "[[0.9701425 ]\n",
      " [0.24253563]]\n",
      "Lambda0 =\n",
      "[[4.]]\n"
     ]
    }
   ],
   "source": [
    "X1 = y0/np.linalg.norm(y0)\n",
    "Lambda0 = np.dot(x0.T,A@x0)/np.dot(x0.T,x0)\n",
    "print(\"X1 =\\n\" + str(X1))\n",
    "print(\"Lambda0 =\\n\" + str(Lambda0))"
   ]
  },
  {
   "cell_type": "markdown",
   "id": "91c38eed-9946-46bd-8637-c47b8a757bcf",
   "metadata": {},
   "source": [
    "よってレイリー商を用いた場合の固有値と固有値は以下．"
   ]
  },
  {
   "cell_type": "markdown",
   "id": "3be556cf-342d-41ee-a8e4-a49d694c2c92",
   "metadata": {},
   "source": [
    "$$\n",
    "\\begin{equation}\n",
    " X^{(1)} =\n",
    "    \\left(\n",
    "    \\begin{array}{c}\n",
    "    0.97014250 \\\\\n",
    "    0.24253563\n",
    "    \\end{array}\n",
    "    \\right)\n",
    "\\end{equation}\n",
    "$$\n",
    "$$\n",
    "\\lambda'^{(0)} = 4.0\n",
    "$$"
   ]
  },
  {
   "cell_type": "markdown",
   "id": "a07fa4c9-f696-48d8-8917-45186deb67f8",
   "metadata": {},
   "source": [
    "$ \\lambda'^{(1)} $ も同様に求める．"
   ]
  },
  {
   "cell_type": "code",
   "execution_count": 64,
   "id": "7f130468-deef-47ed-8c82-12d022b65094",
   "metadata": {},
   "outputs": [
    {
     "name": "stdout",
     "output_type": "stream",
     "text": [
      "X2 =\n",
      " [[0.89442719]\n",
      " [0.4472136 ]]\n",
      "Lambda1 =\n",
      " [[4.76470588]]\n"
     ]
    }
   ],
   "source": [
    "Y1 = A@X1\n",
    "X2 = Y1/np.linalg.norm(Y1)\n",
    "Lambda1 = np.dot(X1.T, A@X1)/np.dot(X1.T, X1)\n",
    "print(\"X2 =\\n\", X2)\n",
    "print(\"Lambda1 =\\n\", Lambda1)"
   ]
  },
  {
   "cell_type": "markdown",
   "id": "b3d2b62b-e996-4274-b549-25c34e16d15c",
   "metadata": {},
   "source": [
    "$$\n",
    "X^{(2)} =\n",
    "    \\left(\n",
    "    \\begin{array}{c}\n",
    "    0.89442719 \\\\\n",
    "    0.44721360\n",
    "    \\end{array}\n",
    "    \\right)\n",
    "$$\n",
    "$$\n",
    "\\lambda'^{(1)} = 4.76470588\n",
    "$$"
   ]
  }
 ],
 "metadata": {
  "kernelspec": {
   "display_name": "Python 3 (ipykernel)",
   "language": "python",
   "name": "python3"
  },
  "language_info": {
   "codemirror_mode": {
    "name": "ipython",
    "version": 3
   },
   "file_extension": ".py",
   "mimetype": "text/x-python",
   "name": "python",
   "nbconvert_exporter": "python",
   "pygments_lexer": "ipython3",
   "version": "3.12.4"
  }
 },
 "nbformat": 4,
 "nbformat_minor": 5
}
