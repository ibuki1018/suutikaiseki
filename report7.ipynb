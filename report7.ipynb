{
 "cells": [
  {
   "cell_type": "markdown",
   "id": "7dd607c2-c7b1-403b-aa73-5a115969ef4d",
   "metadata": {},
   "source": [
    "# 数値解析第７回課題"
   ]
  },
  {
   "cell_type": "markdown",
   "id": "8f0e15bc-3015-45c7-ab6e-c7aa3d4affbf",
   "metadata": {},
   "source": [
    "### 学籍番号：08B22182　氏名：平山聖輝"
   ]
  },
  {
   "cell_type": "markdown",
   "id": "ba84fd70-91f9-4427-a4ab-223e46318e66",
   "metadata": {},
   "source": [
    "課題7"
   ]
  },
  {
   "cell_type": "markdown",
   "id": "1643385c-b5fc-4fc1-bab1-5d310ccb788d",
   "metadata": {},
   "source": [
    "次式に示す２変数の $ (x,y) $ の非線形連立方程式をニュートン・ラフソン法で解くことを考える．"
   ]
  },
  {
   "cell_type": "markdown",
   "id": "fe37294e-1778-4cef-8757-0aa63af60daf",
   "metadata": {},
   "source": [
    "$$\n",
    "\\left\\{\n",
    "\\begin{align}\n",
    "(x - 9)^2 + (y - 5)^2 &= 64 \\\\\n",
    "(x + 2)^2 + (y + 1)^2 &= 36\n",
    "\\end{align}\n",
    "\\right.\n",
    "$$"
   ]
  },
  {
   "cell_type": "markdown",
   "id": "8172863e-a8f9-4464-85d7-ad3071b40bb0",
   "metadata": {},
   "source": [
    "* 適切に $ f_1(x,y) = 0 $ および $ f_2(x,y) = 0 $ を決め， $ \\boldsymbol{f} = ( f_1(x,y), f_2(x,y) )^T $ とする． $ \\boldsymbol{f} $ に対するヤコビアン $ \\boldsymbol{D}\\boldsymbol{f}(x,y) $ を求めよ．\n",
    "*  $ (x^{(1)}, y^{(1)}) = (1,1) $ から $ (x^{(2)}, y^{(2)} ) $ を求めよ．"
   ]
  },
  {
   "cell_type": "markdown",
   "id": "adaa2030-c113-44ce-9bef-9555fadba513",
   "metadata": {},
   "source": [
    "### プログラミングの初期設定"
   ]
  },
  {
   "cell_type": "code",
   "execution_count": 145,
   "id": "a4f91b1a-01eb-4183-89d9-de6489865f11",
   "metadata": {},
   "outputs": [],
   "source": [
    "import numpy as np\n",
    "import math\n",
    "import matplotlib.pyplot as plt\n",
    "from ipywidgets import interact\n",
    "from sympy import *"
   ]
  },
  {
   "cell_type": "markdown",
   "id": "ceb993a6-6dbc-44e9-ab29-78246c9ed042",
   "metadata": {},
   "source": [
    "まずはSympyによる数式処理を実行する．"
   ]
  },
  {
   "cell_type": "code",
   "execution_count": 97,
   "id": "2b571fc7-29ed-40e8-acea-2008c5276dc9",
   "metadata": {},
   "outputs": [],
   "source": [
    "x = Symbol('x')\n",
    "y = Symbol('y')\n",
    "h1 = Symbol('h1')\n",
    "h2 = Symbol('h2')\n",
    "h = Matrix([[h1],[h2]])"
   ]
  },
  {
   "cell_type": "markdown",
   "id": "a0a99fda-a9ea-44d7-8743-20813b5e2e12",
   "metadata": {},
   "source": [
    "初期値と繰り返し回数，計算終了時の誤差を設定する．"
   ]
  },
  {
   "cell_type": "code",
   "execution_count": 254,
   "id": "702f9e0d-5864-43de-9189-e65bbdb811b8",
   "metadata": {},
   "outputs": [],
   "source": [
    "x_init = Matrix([ [1], [1] ])\n",
    "times = 1000\n",
    "e = 10e-6"
   ]
  },
  {
   "cell_type": "markdown",
   "id": "b688aece-e213-495d-bf4a-c9cdf6d00227",
   "metadata": {},
   "source": [
    "### 二変数のニュートン・ラフソン法について"
   ]
  },
  {
   "cell_type": "markdown",
   "id": "518fc8e4-afd3-4d34-af30-18b9e78cbf74",
   "metadata": {},
   "source": [
    "一変数のニュートン・ラフソン法と同様に更新則はベクトル\n",
    "$ \\boldsymbol{h} = \\left[\n",
    "\\begin{array}{c}\n",
    "h_1 \\\\ h_2 \n",
    "\\end{array}\\right]\n",
    "$\n",
    "とベクトル\n",
    "$ \\boldsymbol{x} = \\left[\n",
    "\\begin{array}{c}\n",
    "x \\\\ y\n",
    "\\end{array}\n",
    "\\right]\n",
    "$\n",
    "を用いて"
   ]
  },
  {
   "cell_type": "markdown",
   "id": "ab55e6e1-6137-47cc-ac72-7ecf62962e5d",
   "metadata": {},
   "source": [
    "$$\n",
    "\\boldsymbol{x}^{(k+1)} = \\boldsymbol{x}^{(k)} + \\boldsymbol{h}^{(k)}\n",
    "$$"
   ]
  },
  {
   "cell_type": "markdown",
   "id": "3c26958b-9fd2-40f1-92b6-d2b6bde0a839",
   "metadata": {},
   "source": [
    "により更新していけばよい．ここで一変数のときの $ h $ が"
   ]
  },
  {
   "cell_type": "markdown",
   "id": "1dbbca56-bc4e-4854-91b6-ec884f47af36",
   "metadata": {},
   "source": [
    "$$\n",
    "h^{(k)} = -\\frac{f'(x^{(k)})}{f(x^{(k)})}\n",
    "$$"
   ]
  },
  {
   "cell_type": "markdown",
   "id": "b982a92c-9239-4e79-9de9-74bc2beb26da",
   "metadata": {},
   "source": [
    "であったため，二変数のときはベクトル\n",
    "$ \\boldsymbol{x} = (x, y)^T, \\boldsymbol{f} = (f_1(\\boldsymbol{x}),f_2(\\boldsymbol{x}))^T $ に関するヤコビアン $ \\boldsymbol{D}\\boldsymbol{f}(\\boldsymbol{x}^{(k)}) $ をもちいて $ \\boldsymbol{h} $ を求めればよい．ここでヤコビアン $\\boldsymbol{D}\\boldsymbol{f}(\\boldsymbol{x}^{(k)})$ とは"
   ]
  },
  {
   "cell_type": "markdown",
   "id": "b840581b-a141-4c10-90b0-3469c1e30d74",
   "metadata": {},
   "source": [
    "$$\n",
    "\\boldsymbol{D} = \\left[\n",
    "\\begin{array}{cc}\n",
    "\\frac{\\partial{f_1}}{\\partial{x}} & \\frac{\\partial{f_1}}{\\partial{y}} \\\\\n",
    "\\frac{\\partial{f_2}}{\\partial{x}} & \\frac{\\partial{f_2}}{\\partial{y}}\n",
    "\\end{array}\n",
    "\\right]_{\\boldsymbol{x} = \\boldsymbol{x}^{(k)}}\n",
    "$$\n"
   ]
  },
  {
   "cell_type": "markdown",
   "id": "51fa5914-43fd-41df-9936-7b02dc048341",
   "metadata": {},
   "source": [
    "を満たすものである．よって $ \\boldsymbol{h}^{(k)} $ は"
   ]
  },
  {
   "cell_type": "markdown",
   "id": "7bfd4b9a-e16c-4524-aae4-69a46aef5327",
   "metadata": {},
   "source": [
    "$$\n",
    "\\boldsymbol{f}(\\boldsymbol{x}^{(k)}) + \\boldsymbol{D}\\boldsymbol{f}(\\boldsymbol{x}^{(k)})\\boldsymbol{h}^{(k)} = \\boldsymbol{0}\n",
    "$$"
   ]
  },
  {
   "cell_type": "markdown",
   "id": "fe90b2d4-a03c-4b78-bbe5-b4ff404cf811",
   "metadata": {},
   "source": [
    "を満たすように設定すればよい．ここでヤコビアンの逆行列を求めるのは計算コストがかかるためLU分解などで工夫して計算する必要があるのは第４回課題でも解いたとおりである．"
   ]
  },
  {
   "cell_type": "markdown",
   "id": "a85c2061-d6e1-43f4-bd0b-da0bf8fcf431",
   "metadata": {},
   "source": [
    "### 解くべき方程式とヤコビアンの設定"
   ]
  },
  {
   "cell_type": "code",
   "execution_count": 101,
   "id": "fbfe625c-f2e1-45f1-b481-3e7d7e7894d5",
   "metadata": {},
   "outputs": [
    {
     "data": {
      "text/latex": [
       "$\\displaystyle \\left[\\begin{matrix}\\left(x - 9\\right)^{2} + \\left(y - 5\\right)^{2} - 64\\\\\\left(x + 2\\right)^{2} + \\left(y + 1\\right)^{2} - 36\\end{matrix}\\right]$"
      ],
      "text/plain": [
       "Matrix([\n",
       "[(x - 9)**2 + (y - 5)**2 - 64],\n",
       "[(x + 2)**2 + (y + 1)**2 - 36]])"
      ]
     },
     "metadata": {},
     "output_type": "display_data"
    }
   ],
   "source": [
    "f1 = (x - 9)**2 + (y - 5)**2 - 64\n",
    "f2 = (x + 2)**2 + (y + 1)**2 - 36\n",
    "F = Matrix([[f1],[f2]])\n",
    "display(F)"
   ]
  },
  {
   "cell_type": "markdown",
   "id": "385869dc-94ed-4f28-8525-e281e9b87d95",
   "metadata": {},
   "source": [
    "よってヤコビアンは以下"
   ]
  },
  {
   "cell_type": "code",
   "execution_count": 103,
   "id": "411f2025-6979-4d23-9d41-4ded1ef6197b",
   "metadata": {},
   "outputs": [
    {
     "data": {
      "text/latex": [
       "$\\displaystyle \\left[\\begin{matrix}2 x - 18 & 2 y - 10\\\\2 x + 4 & 2 y + 2\\end{matrix}\\right]$"
      ],
      "text/plain": [
       "Matrix([\n",
       "[2*x - 18, 2*y - 10],\n",
       "[ 2*x + 4,  2*y + 2]])"
      ]
     },
     "metadata": {},
     "output_type": "display_data"
    }
   ],
   "source": [
    "X = Matrix([[x], [y]])\n",
    "J = F.jacobian(X)\n",
    "#なんとF.jacobianでヤコビアンを計算してくれる！sympyの恩恵！\n",
    "display(J)"
   ]
  },
  {
   "cell_type": "markdown",
   "id": "3e29511c-7afa-4e45-b3dc-9783d21ec4e3",
   "metadata": {},
   "source": [
    "### 二回目の値$\\boldsymbol{x}^{(2)}$を求める"
   ]
  },
  {
   "cell_type": "markdown",
   "id": "04e3e8fd-5800-456b-af93-24dc6d3484b4",
   "metadata": {},
   "source": [
    "solve関数を用いて解いてもいいが，せっかくなので第四回のLU分解のコードを使って計算する．"
   ]
  },
  {
   "cell_type": "code",
   "execution_count": 135,
   "id": "9ba774e1-9263-45fa-8f8f-b2f3e0b897a7",
   "metadata": {},
   "outputs": [],
   "source": [
    "def LU_division(mat_A):\n",
    "    num_vec_x = mat_A.shape[0] #行数の取得\n",
    "    mat_L = np.eye(num_vec_x) #L=Aと同じn×nの単位行列\n",
    "    mat_U = mat_A.copy() #はじめはU=A\n",
    "    mat_LU = np.concatenate((mat_L, mat_U), axis = 1)\n",
    "    print(mat_LU, \"\\n↓\")\n",
    "    \n",
    "\n",
    "    #A=LUのLU分解を行う\n",
    "    for pivot in range(num_vec_x):\n",
    "        temp_U = mat_U.copy() #mat_Uの情報をいじっちゃわないように逃げのtemp_Uを用意\n",
    "        val = temp_U[pivot, pivot]\n",
    "        #ピボットの確認\n",
    "        print(\"pivot =\", val)\n",
    "\n",
    "        for row in range(pivot+1, num_vec_x):\n",
    "            #pivot以降の行からpivot行をmat_U[row,pivot]/val倍して引く->U\n",
    "            pivot_row = (mat_U[row, pivot] / val) * mat_U[pivot, range(pivot, num_vec_x)]\n",
    "            mat_U[row, range(pivot, num_vec_x)] -= pivot_row\n",
    "            \n",
    "            #L[row, pivot]にmat_U[row,pivot]/valを代入\n",
    "            mat_L[row, pivot] = temp_U[row, pivot] / val\n",
    "\n",
    "            #LUを表示\n",
    "            mat_LU = np.concatenate((mat_L, mat_U), axis = 1)\n",
    "            print(mat_LU, \"\\n↓\")\n",
    "            \n",
    "    return mat_L, mat_U"
   ]
  },
  {
   "cell_type": "code",
   "execution_count": 107,
   "id": "b8516ba6-b092-4916-bde1-6dfd88b59a3d",
   "metadata": {},
   "outputs": [],
   "source": [
    "def forward_elimination(mat_L, vec_b):\n",
    "    #Ly=bの前進消去を行う\n",
    "    vec_y = np.zeros(vec_b.shape) #yを1×nの行列に\n",
    "    num_vec_x = mat_L.shape[0]\n",
    "\n",
    "    for row in range(0,num_vec_x): #前進0～n-1\n",
    "        y_temp = vec_b[row, 0] #内積の計算をするために逃げの変数用意\n",
    "        for column in range(0, row, 1):\n",
    "            y_temp = y_temp - mat_L[row, column]*vec_y[column, 0] #columnとcolumnで縮約！\n",
    "        vec_y[row, 0] = y_temp / mat_L[row, row] #最後y[row, 0]の係数L[row, row]で割る\n",
    "        print(\"y=\", vec_y, \"\\n↓\")\n",
    "        \n",
    "    return vec_y"
   ]
  },
  {
   "cell_type": "code",
   "execution_count": 109,
   "id": "b87a2e9c-1a9e-47d8-b94a-fc329eff7119",
   "metadata": {},
   "outputs": [],
   "source": [
    "def back_substitution(mat_U, vec_y):\n",
    "    #Ux=yの後退代入を行う\n",
    "    vec_x = np.zeros(vec_y.shape)\n",
    "    num_vec_x = mat_U.shape[0]\n",
    "\n",
    "    for row in range(num_vec_x-1, -1, -1): #後退n-1~0\n",
    "        x_temp = vec_y[row] #前進消去と考え方は同じ,forの向きが変わるだけ\n",
    "        for column in range(num_vec_x-1, row, -1):\n",
    "            x_temp = x_temp - mat_U[row, column]*vec_x[column,0]\n",
    "        vec_x[row] = x_temp / mat_U[row, row]\n",
    "        print(\"x=\", vec_x, \"\\n↓\")\n",
    "    \n",
    "    return vec_x"
   ]
  },
  {
   "cell_type": "code",
   "execution_count": 221,
   "id": "75500312-e0c1-4cc7-9acf-9e3f377f6a67",
   "metadata": {},
   "outputs": [
    {
     "name": "stdout",
     "output_type": "stream",
     "text": [
      "[[1.0 0.0 -16 -8]\n",
      " [0.0 1.0 6 4]] \n",
      "↓\n",
      "pivot = -16\n",
      "[[1.0 0.0 -16 -8]\n",
      " [-0.375 1.0 0 1]] \n",
      "↓\n",
      "pivot = 1\n",
      "y= [[-16.]\n",
      " [  0.]] \n",
      "↓\n",
      "y= [[-16.]\n",
      " [ 17.]] \n",
      "↓\n",
      "x= [[ 0.]\n",
      " [17.]] \n",
      "↓\n",
      "x= [[-7.5]\n",
      " [17. ]] \n",
      "↓\n"
     ]
    },
    {
     "data": {
      "text/plain": [
       "array([[-7.5],\n",
       "       [17. ]])"
      ]
     },
     "execution_count": 221,
     "metadata": {},
     "output_type": "execute_result"
    }
   ],
   "source": [
    "mat_J = J.subs([(x, x_init[0,0]),(y, x_init[1,0])]) #Jにx_initを代入する\n",
    "mat_F = F.subs([(x, x_init[0,0]),(y, x_init[1,0])])\n",
    "array_J = matrix2numpy(mat_J) #matrix2numpyでnumpyでつかえるarray型に直す．\n",
    "array_F = matrix2numpy(mat_F)\n",
    "mat_L, mat_U = LU_division(array_J)\n",
    "vec_y = forward_elimination(mat_L, -array_F) #Df(x)h = -F(x)\n",
    "h_ans1 = back_substitution(mat_U, vec_y)\n",
    "h_ans1"
   ]
  },
  {
   "cell_type": "code",
   "execution_count": 213,
   "id": "c747b246-dc96-45da-a583-66f23456b6b8",
   "metadata": {},
   "outputs": [
    {
     "data": {
      "text/plain": [
       "{h1: -7.50000000000000, h2: 17.0000000000000}"
      ]
     },
     "execution_count": 213,
     "metadata": {},
     "output_type": "execute_result"
    }
   ],
   "source": [
    "ans = solve(J.subs([(x, x_init[0,0]),(y, x_init[1,0])]) * h + F.subs([(x, x_init[0,0]),(y, x_init[1,0])]))\n",
    "ans"
   ]
  },
  {
   "cell_type": "markdown",
   "id": "b260701c-f645-4eaf-a90e-3bbea1d0f728",
   "metadata": {},
   "source": [
    "したがって求めるべき$\\boldsymbol{x}^{(2)}$ は"
   ]
  },
  {
   "cell_type": "markdown",
   "id": "7585b7ae-a56b-425b-8659-8ec0865c648d",
   "metadata": {},
   "source": [
    "$$\n",
    "\\begin{align}\n",
    "\\boldsymbol{x}^{(2)} &= \\boldsymbol{x}^{(1)} + \\boldsymbol{h}^{(1)} \\\\\n",
    "&= \\left[\\begin{array}{c} 1 \\\\ 1 \\end{array}\\right] + \\left[\\begin{array}{c} -7.5 \\\\ 17 \\end{array}\\right] \\\\\n",
    "&= \\left[\\begin{array}{c} -6.5 \\\\ 18 \\end{array}\\right]\n",
    "\\end{align}\n",
    "$$"
   ]
  },
  {
   "cell_type": "markdown",
   "id": "d34429a1-754e-4fcb-877a-064d5fb03802",
   "metadata": {},
   "source": [
    "となることが分かった．"
   ]
  },
  {
   "cell_type": "markdown",
   "id": "2e3c55a2-ce2b-431a-8969-ca3c46a47c01",
   "metadata": {},
   "source": [
    "### 繰り返し計算により解を得る"
   ]
  },
  {
   "cell_type": "code",
   "execution_count": 294,
   "id": "ac065003-1575-4a2e-bd5e-be1f719fca07",
   "metadata": {},
   "outputs": [],
   "source": [
    "def multiNewton(x_init, n):\n",
    "    x_b = x_init\n",
    "    x_ans = matrix2numpy(x_b) #mat_Jのとき同様numpyでつかえるように型を変える\n",
    "    deltas = [] #残差delta\n",
    "    deltas.append(0)\n",
    "    count = 0\n",
    "\n",
    "    for n in range(n):\n",
    "    \n",
    "        ## f(x) + J(x) h = 0 を解く\n",
    "        ans = solve(J.subs([(x, x_b[0,0]), (y, x_b[1,0])]) * h+F.subs([(x, x_b[0,0]), (y, x_b[1,0])]))\n",
    "        h_ans = Matrix([[ans[h1]], [ans[h2]]])\n",
    "    \n",
    "        ## xの更新\n",
    "        x_a  = x_b + h_ans\n",
    "    \n",
    "        x_ans = np.c_[x_ans, matrix2numpy(x_a)]\n",
    "        deltas = np.c_[deltas, (x_a- x_b).norm().evalf()]\n",
    "        count = count + 1;\n",
    "        print('count=', count, '\\n')\n",
    "        if (x_a - x_b).norm()< e : break\n",
    "        x_b = x_a\n",
    "        \n",
    "    return x_ans, deltas"
   ]
  },
  {
   "cell_type": "code",
   "execution_count": 296,
   "id": "ea8f6a6d-cac9-46c4-8ad0-3cddba5efaf5",
   "metadata": {},
   "outputs": [
    {
     "name": "stdout",
     "output_type": "stream",
     "text": [
      "count= 1 \n",
      "\n",
      "count= 2 \n",
      "\n",
      "count= 3 \n",
      "\n",
      "count= 4 \n",
      "\n",
      "count= 5 \n",
      "\n",
      "count= 6 \n",
      "\n",
      "count= 7 \n",
      "\n",
      "count= 8 \n",
      "\n",
      "1.04306320119422\n",
      "4.17105079781059\n"
     ]
    }
   ],
   "source": [
    "x_ans, delta = multiNewton(x_init, times)\n",
    "print(x_ans[0,-1].evalf()) #リストの番号でマイナス(－)は後ろから何番目か\n",
    "print(x_ans[1,-1].evalf()) #evalfは解を近似している．"
   ]
  },
  {
   "cell_type": "markdown",
   "id": "adf59d31-03aa-43a0-8ea2-389ed01b7e79",
   "metadata": {},
   "source": [
    "繰り返し中の結果をグラフにて表示すると以下のようになる．"
   ]
  },
  {
   "cell_type": "code",
   "execution_count": 266,
   "id": "2ce08e7b-980f-4297-9a24-297b3f0714ea",
   "metadata": {},
   "outputs": [
    {
     "data": {
      "image/png": "[encoded data removed]",
      "text/plain": [
       "<Figure size 1000x600 with 1 Axes>"
      ]
     },
     "metadata": {},
     "output_type": "display_data"
    }
   ],
   "source": [
    "fig = plt.figure(figsize=(10, 6.0))\n",
    "plt.plot(x_ans[0,:],label=\"x\")\n",
    "plt.plot(x_ans[1,:],label=\"y\")\n",
    "plt.plot(delta[0,:], label='$delta$')\n",
    "plt.legend(loc='upper right',)\n",
    "plt.grid() \n",
    "plt.show()"
   ]
  },
  {
   "cell_type": "markdown",
   "id": "1692ba80-7d8c-4185-bfe4-4cd9ea7d3545",
   "metadata": {},
   "source": [
    "したがってこの結果からこの二変数非線形連立方程式の解は"
   ]
  },
  {
   "cell_type": "markdown",
   "id": "11385248-df21-4712-89df-a4c6ed9b9102",
   "metadata": {},
   "source": [
    "$$\n",
    "\\boldsymbol{x} = \\left[\n",
    "\\begin{array}{c}\n",
    "1.04306320119422 \\\\\n",
    "4.17105079781059\n",
    "\\end{array}\n",
    "\\right]\n",
    "$$"
   ]
  },
  {
   "cell_type": "markdown",
   "id": "6c5c2e1e-cded-4f5b-b670-d8a2010b5089",
   "metadata": {},
   "source": [
    "だと求めることができた．また誤差が $ 10^{-6} $ 以下になるための繰り返し回数は$8$回であったこともわかった．"
   ]
  }
 ],
 "metadata": {
  "kernelspec": {
   "display_name": "Python 3 (ipykernel)",
   "language": "python",
   "name": "python3"
  },
  "language_info": {
   "codemirror_mode": {
    "name": "ipython",
    "version": 3
   },
   "file_extension": ".py",
   "mimetype": "text/x-python",
   "name": "python",
   "nbconvert_exporter": "python",
   "pygments_lexer": "ipython3",
   "version": "3.12.4"
  }
 },
 "nbformat": 4,
 "nbformat_minor": 5
}
