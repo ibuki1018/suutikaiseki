{
 "cells": [
  {
   "cell_type": "markdown",
   "id": "af52b435-5c31-4f4c-957a-17945c7ddbda",
   "metadata": {},
   "source": [
    "# 数値解析第8回課題"
   ]
  },
  {
   "cell_type": "markdown",
   "id": "933e29a5-cac0-4f4c-8abd-a5bbc69cab07",
   "metadata": {},
   "source": [
    "### 学籍番号：08B22182　氏名：平山聖輝"
   ]
  },
  {
   "cell_type": "markdown",
   "id": "7af73fcd-3d55-427f-bcc9-241b0b4b12d1",
   "metadata": {},
   "source": [
    "課題8"
   ]
  },
  {
   "cell_type": "markdown",
   "id": "683dcb1a-a95a-4b58-857a-c1c02e3ee883",
   "metadata": {},
   "source": [
    "データ点"
   ]
  },
  {
   "cell_type": "markdown",
   "id": "92f433a2-5987-40fe-a8cc-89073d648dfc",
   "metadata": {},
   "source": [
    "$$\n",
    "(x_i, y_i)=(-1.0,0.0), (0.0, 2.0), (1.0, 1.0), (2.0, 3.0), (3.0, 5.0), (4.0, 4.0)\n",
    "$$"
   ]
  },
  {
   "cell_type": "markdown",
   "id": "fc676fa1-0230-4e19-a24c-19e0fe1bf383",
   "metadata": {},
   "source": [
    "に対し，\n",
    "* 関数 $ y = ax + b $ にて最小二乗近似したときの， $ a $ および $ b $ を求めよ．\n",
    "* 相関係数を求めよ．"
   ]
  },
  {
   "cell_type": "code",
   "execution_count": 7,
   "id": "374105a2-feb8-4f0a-933d-a707a8e3f0cb",
   "metadata": {},
   "outputs": [],
   "source": [
    "import numpy as np\n",
    "import math\n",
    "import matplotlib.pyplot as plt"
   ]
  },
  {
   "cell_type": "markdown",
   "id": "177e8fc6-8ebd-4c25-97a4-332b38c83bf7",
   "metadata": {},
   "source": [
    "### データを準備する"
   ]
  },
  {
   "cell_type": "code",
   "execution_count": 40,
   "id": "e52f808b-e9cf-4da3-9a90-2988a8cb692a",
   "metadata": {},
   "outputs": [
    {
     "data": {
      "text/plain": [
       "<matplotlib.collections.PathCollection at 0x26cf9db1130>"
      ]
     },
     "execution_count": 40,
     "metadata": {},
     "output_type": "execute_result"
    },
    {
     "data": {
      "image/png": "[encoded data removed]",
      "text/plain": [
       "<Figure size 800x400 with 1 Axes>"
      ]
     },
     "metadata": {},
     "output_type": "display_data"
    }
   ],
   "source": [
    "#データをdata配列に格納\n",
    "data = [\n",
    "    [-1.0, 0.0],\n",
    "    [0.0, 2.0],\n",
    "    [1.0, 1.0],\n",
    "    [2.0, 3.0],\n",
    "    [3.0, 5.0],\n",
    "    [4.0, 4.0]\n",
    "]\n",
    "#データは6つ\n",
    "data_size = 6\n",
    "\n",
    "#x,y配列を生成\n",
    "x = np.zeros(6)\n",
    "y = np.zeros(6)\n",
    "#x,yにデータの値を代入\n",
    "for i in range(data_size):\n",
    "    x[i] = data[i][0]\n",
    "    y[i] = data[i][1]\n",
    "\n",
    "#pltする\n",
    "plt.figure(figsize = (8, 4))\n",
    "plt.scatter(x, y)"
   ]
  },
  {
   "cell_type": "markdown",
   "id": "ef0a4afa-f7bc-49b7-88a6-625c35ff1f12",
   "metadata": {},
   "source": [
    "### 近似直線を求める"
   ]
  },
  {
   "cell_type": "markdown",
   "id": "af0ad696-6e49-4cec-9eb3-6052c90d69ee",
   "metadata": {},
   "source": [
    "講義内でもあったように，最小二乗法を用いた近似直線の係数 $ a $ と切片 $ b $ は以下のように求められる．"
   ]
  },
  {
   "cell_type": "markdown",
   "id": "60e745ea-00a6-49e3-8105-336892b4d742",
   "metadata": {},
   "source": [
    "$$\n",
    "a = \\frac{m\\sum{x_iy_i}-\\sum{x_i}\\sum{y_i}}{m\\sum{x_i^2}-{(\\sum{x_i})}^2}\n",
    "$$\n",
    "$$\n",
    "b = \\frac{\\sum{x_i}\\sum{x_iy_i}-\\sum{x_i^2}\\sum{y_i}}{(\\sum{x_i})^2-m\\sum{x_i^2}}\n",
    "$$"
   ]
  },
  {
   "cell_type": "code",
   "execution_count": 58,
   "id": "21483b87-cc06-43bc-8357-233f615b67d5",
   "metadata": {},
   "outputs": [
    {
     "name": "stdout",
     "output_type": "stream",
     "text": [
      "sum_x= 9.0 \n",
      "\n",
      "sum_y= 15.0 \n",
      "\n",
      "sum_xy= 38.0 \n",
      "\n",
      "sum_x2= 31.0 \n",
      "\n",
      "a= 0.8857142857142857 \n",
      " b= 1.1714285714285715\n"
     ]
    }
   ],
   "source": [
    "#sumの塊を先に計算する\n",
    "sum_x = 0.\n",
    "sum_y = 0.\n",
    "sum_xy = 0.\n",
    "sum_x2 = 0.\n",
    "\n",
    "for i in range(data_size):\n",
    "    sum_x = sum_x + x[i]\n",
    "    sum_y = sum_y + y[i]\n",
    "    sum_xy = sum_xy + x[i]*y[i]\n",
    "    sum_x2 = sum_x2 + x[i]**2\n",
    "\n",
    "print('sum_x=', sum_x, '\\n')\n",
    "print('sum_y=', sum_y, '\\n')\n",
    "print('sum_xy=', sum_xy, '\\n')\n",
    "print('sum_x2=', sum_x2, '\\n')\n",
    "\n",
    "#aとbを計算\n",
    "a = (data_size*sum_xy - sum_x*sum_y)/(data_size*sum_x2 - (sum_x**2))\n",
    "b = (sum_x*sum_xy - sum_x2*sum_y)/((sum_x**2) - data_size*sum_x2)\n",
    "\n",
    "print('a=', a, '\\n', 'b=', b)"
   ]
  },
  {
   "cell_type": "markdown",
   "id": "46ac954e-9407-4223-9e99-59f3065a80b8",
   "metadata": {},
   "source": [
    "計算した $ a $ と $ b $ を用いて近似直線を描くと以下のようになる．"
   ]
  },
  {
   "cell_type": "code",
   "execution_count": 63,
   "id": "69569bf3-0dc6-4d22-b185-9e8d3ef48343",
   "metadata": {},
   "outputs": [
    {
     "data": {
      "text/plain": [
       "<matplotlib.collections.PathCollection at 0x26cf9cabef0>"
      ]
     },
     "execution_count": 63,
     "metadata": {},
     "output_type": "execute_result"
    },
    {
     "data": {
      "image/png": "[encoded data removed]",
      "text/plain": [
       "<Figure size 800x400 with 1 Axes>"
      ]
     },
     "metadata": {},
     "output_type": "display_data"
    }
   ],
   "source": [
    "x1 = np.zeros(100)\n",
    "y1 = np.zeros(100)\n",
    "\n",
    "for i in range(-20, 80, 1):\n",
    "    x1[i] = i*0.05\n",
    "    y1[i] = a*x1[i] + b\n",
    "\n",
    "\n",
    "plt.figure(figsize = (8, 4))\n",
    "plt.scatter(x, y)\n",
    "plt.scatter(x1, y1)"
   ]
  },
  {
   "cell_type": "markdown",
   "id": "ee0d5083-5813-496a-bc71-7f832ad677c7",
   "metadata": {},
   "source": [
    "よって近似直線の係数 $ a $ と切片 $ b $ は以下．"
   ]
  },
  {
   "cell_type": "markdown",
   "id": "09e8cbe1-ef08-4403-ad61-058d94e90b7d",
   "metadata": {},
   "source": [
    "$$\n",
    "a = 0.8857142857142857,  b = 1.1714285714285715\n",
    "$$"
   ]
  },
  {
   "cell_type": "markdown",
   "id": "7a73918f-1a4d-4b08-92b4-fc6d40038665",
   "metadata": {},
   "source": [
    "### 相関係数を計算する"
   ]
  },
  {
   "cell_type": "markdown",
   "id": "99e43468-60cf-4c1e-b72b-2e1298a96630",
   "metadata": {},
   "source": [
    "相関係数は以下の式で計算できる．"
   ]
  },
  {
   "cell_type": "markdown",
   "id": "3540c09a-859f-41d4-b16c-19bb0436583e",
   "metadata": {},
   "source": [
    "$$\n",
    "r_{xy} = \\frac{s_{xy}}{s_xs_y} = \\frac{\\sum{(\\overline{x} - x_i)(\\overline{y} - y_i)}}{\\sqrt{\\sum{(\\overline{x} - x_i)^2}}\\sqrt{\\sum{(\\overline{y} - y_i)^2}}} \n",
    "$$"
   ]
  },
  {
   "cell_type": "code",
   "execution_count": 69,
   "id": "3e189e00-4aa2-4efc-875f-334172f71c36",
   "metadata": {},
   "outputs": [
    {
     "name": "stdout",
     "output_type": "stream",
     "text": [
      "sum_xaya= 15.5 \n",
      "\n",
      "sum_xa= 17.5 \n",
      "\n",
      "sum_ya= 17.5 \n",
      "\n",
      "r_xy= 0.8857142857142857\n"
     ]
    }
   ],
   "source": [
    "x_ave = np.average(x)\n",
    "y_ave = np.average(y)\n",
    "\n",
    "#近似直線同様に先にsumの塊を計算する\n",
    "sum_xaya = 0\n",
    "sum_xa = 0\n",
    "sum_ya = 0\n",
    "\n",
    "for i in range(data_size):\n",
    "    sum_xaya = sum_xaya + (x_ave - x[i])*(y_ave - y[i])\n",
    "    sum_xa = sum_xa + (x_ave - x[i])**2\n",
    "    sum_ya = sum_ya + (y_ave - y[i])**2\n",
    "\n",
    "print('sum_xaya=', sum_xaya, '\\n')\n",
    "print('sum_xa=', sum_xa, '\\n')\n",
    "print('sum_ya=', sum_ya, '\\n')\n",
    "\n",
    "r_xy = sum_xaya / (np.sqrt(sum_xa)*np.sqrt(sum_ya))\n",
    "\n",
    "print('r_xy=' , r_xy)"
   ]
  },
  {
   "cell_type": "markdown",
   "id": "2ad71f0e-f8ea-4d90-9e3b-7323405886c8",
   "metadata": {},
   "source": [
    "近似直線と散布図を見るとわかるように相関は1に近い値になることが予想されるので正しい値だと予想できる．ライブラリにて確認すると"
   ]
  },
  {
   "cell_type": "code",
   "execution_count": 72,
   "id": "dfe0135f-a097-4acd-982a-5f16acec8813",
   "metadata": {},
   "outputs": [
    {
     "data": {
      "text/plain": [
       "0.8857142857142858"
      ]
     },
     "execution_count": 72,
     "metadata": {},
     "output_type": "execute_result"
    }
   ],
   "source": [
    "np.corrcoef(x,y)[0,1]"
   ]
  },
  {
   "cell_type": "markdown",
   "id": "f9f5016b-1b32-4753-b808-5a6f44e507e6",
   "metadata": {},
   "source": [
    "よって相関係数は以下．"
   ]
  },
  {
   "cell_type": "markdown",
   "id": "43158420-88e4-4003-8f9c-c6d1b5943191",
   "metadata": {},
   "source": [
    "$$\n",
    "r_{xy} = 0.8857142857142858\n",
    "$$"
   ]
  },
  {
   "cell_type": "code",
   "execution_count": null,
   "id": "3b7b906c-764c-4a66-b6b3-8d6ec0191127",
   "metadata": {},
   "outputs": [],
   "source": []
  }
 ],
 "metadata": {
  "kernelspec": {
   "display_name": "Python 3 (ipykernel)",
   "language": "python",
   "name": "python3"
  },
  "language_info": {
   "codemirror_mode": {
    "name": "ipython",
    "version": 3
   },
   "file_extension": ".py",
   "mimetype": "text/x-python",
   "name": "python",
   "nbconvert_exporter": "python",
   "pygments_lexer": "ipython3",
   "version": "3.12.4"
  }
 },
 "nbformat": 4,
 "nbformat_minor": 5
}
