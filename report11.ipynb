{
 "cells": [
  {
   "cell_type": "markdown",
   "id": "ab96659d-1020-4715-9f43-b69c8396a8f8",
   "metadata": {},
   "source": [
    "# 数値解析課題第11回"
   ]
  },
  {
   "cell_type": "markdown",
   "id": "1545c271-fcc4-4568-8814-de49bc23f7f9",
   "metadata": {},
   "source": [
    "### 学籍番号：08B22182　氏名：平山聖輝"
   ]
  },
  {
   "cell_type": "markdown",
   "id": "77b10d36-edf5-4aab-9899-5961404576ca",
   "metadata": {},
   "source": [
    "課題11"
   ]
  },
  {
   "cell_type": "markdown",
   "id": "ef3126b6-31d4-4401-b2f3-c1b1504f732b",
   "metadata": {},
   "source": [
    "$$\n",
    "\\frac{d^2x}{dt^2} + 2\\frac{dx}{dt} + 4x = 0\n",
    "$$"
   ]
  },
  {
   "cell_type": "markdown",
   "id": "3f230425-2e56-4a03-998f-9218f9011cc8",
   "metadata": {},
   "source": [
    "の微分方程式を初期条件 $ x(0) = 2 $ および $ \\dot{x}(0) = 0 $ の下で，2次のルンゲクッタを用いて $ x(0.1) $ および $x(0.2) $ を求めよ．ただし，刻み幅 $ h = 0.1 $ とする．"
   ]
  },
  {
   "cell_type": "markdown",
   "id": "2d56d437-02ef-4de5-b428-41e12979c9c5",
   "metadata": {},
   "source": [
    "### 行列にして一階の常微分方程式にする"
   ]
  },
  {
   "cell_type": "markdown",
   "id": "89b43be2-1e44-4912-83d7-2e1b07352374",
   "metadata": {},
   "source": [
    "ベクトル\n",
    "$$\n",
    "\\boldsymbol{x}= \n",
    "\\left[\\begin{array}{c}\n",
    "x \\\\\n",
    "\\dot{x}\n",
    "\\end{array}\\right]\n",
    "= \\left[\\begin{array}{c}\n",
    "x_1 \\\\\n",
    "x_2\n",
    "\\end{array}\\right]\n",
    "$$"
   ]
  },
  {
   "cell_type": "markdown",
   "id": "02dd1b0f-3a61-45be-880e-4e03fdcca8a5",
   "metadata": {},
   "source": [
    "を用いて与えられた微分方程式を行列表記にするよう変形すると"
   ]
  },
  {
   "cell_type": "markdown",
   "id": "a4392344-7eca-4580-b19c-6d88ae8096d4",
   "metadata": {},
   "source": [
    "$$\n",
    "\\dot{\\boldsymbol{x}} = \n",
    "\\left[\\begin{array}{c}\n",
    "\\dot{x} \\\\\n",
    "\\ddot{x}\n",
    "\\end{array}\\right]\n",
    "= \\left[\\begin{array}{cc}\n",
    "0 & 1 \\\\\n",
    "-4 & -2\n",
    "\\end{array}\\right]\n",
    "\\left[\\begin{array}{c}\n",
    "x_1 \\\\\n",
    "x_2\n",
    "\\end{array}\\right]\n",
    "$$"
   ]
  },
  {
   "cell_type": "markdown",
   "id": "7253f84a-a4f0-43af-95ed-85c86953abbf",
   "metadata": {},
   "source": [
    "となるからこれは $ \\boldsymbol{x} $ についての一階の常微分方程式に置き換わる．ここで $ \\dot{\\boldsymbol{x}} = g(\\boldsymbol{x}) $ と置くと"
   ]
  },
  {
   "cell_type": "markdown",
   "id": "6a2f3480-decc-431d-a81c-8f5b8fc8638b",
   "metadata": {},
   "source": [
    "$$\n",
    "\\begin{align}\n",
    "\\boldsymbol{k}_1 &= g(t_i , \\boldsymbol{x}_i) \\\\\n",
    "\\boldsymbol{k}_2 &= g(t_i + h , \\boldsymbol{x}_i + h\\boldsymbol{k}_1) \\\\\n",
    "\\boldsymbol{x}_{i+1} &= \\boldsymbol{x}_i + \\frac{h}{2}(\\boldsymbol{k}_1 + \\boldsymbol{k}_2)\n",
    "\\end{align}\n",
    "$$"
   ]
  },
  {
   "cell_type": "markdown",
   "id": "2633410c-ec6c-42c0-a2fc-e676fceff1d7",
   "metadata": {},
   "source": [
    "で更新すれば二次のルンゲクッタ法が適用でき，この求めたベクトル $ \\boldsymbol{x} $ の第一成分が求めたい $x$ となる"
   ]
  },
  {
   "cell_type": "markdown",
   "id": "c4d01cbe-eaa8-4eb1-9134-9d59fa064b16",
   "metadata": {},
   "source": [
    "### 与えられた初期解から高階の微分方程式を解く"
   ]
  },
  {
   "cell_type": "code",
   "execution_count": 97,
   "id": "498db58a-5654-4398-a59e-6d2914407839",
   "metadata": {},
   "outputs": [],
   "source": [
    "import numpy  as np\n",
    "import matplotlib.pyplot as plt\n",
    "import sympy as sp\n",
    "h = 0.1\n",
    "t = sp.symbols('t')"
   ]
  },
  {
   "cell_type": "markdown",
   "id": "714f6d0f-ee8c-4e76-8fa5-d51924193cee",
   "metadata": {},
   "source": [
    "$ g(\\boldsymbol{x}) = A\\boldsymbol{x} $ とすると $ A $ は以下．"
   ]
  },
  {
   "cell_type": "code",
   "execution_count": 24,
   "id": "f6118e39-25a7-4bbf-a593-7c887b8abb5d",
   "metadata": {},
   "outputs": [
    {
     "data": {
      "text/plain": [
       "array([[ 0,  1],\n",
       "       [-4, -2]])"
      ]
     },
     "metadata": {},
     "output_type": "display_data"
    }
   ],
   "source": [
    "A = np.array([[0,1], [-4,-2]])\n",
    "display(A)"
   ]
  },
  {
   "cell_type": "markdown",
   "id": "cb6f5d35-3cec-49b7-9d18-36ad3c805c09",
   "metadata": {},
   "source": [
    "初期解 $ \\boldsymbol{x}(0) $ は $ x(0)=2, \\dot{x}(0)=0 $ より以下"
   ]
  },
  {
   "cell_type": "code",
   "execution_count": 33,
   "id": "85e5a64a-1824-466e-ac6e-b32500b62716",
   "metadata": {},
   "outputs": [
    {
     "data": {
      "text/plain": [
       "array([[2],\n",
       "       [0]])"
      ]
     },
     "metadata": {},
     "output_type": "display_data"
    }
   ],
   "source": [
    "x0 = np.array([[2],[0]])\n",
    "display(x0)"
   ]
  },
  {
   "cell_type": "markdown",
   "id": "6700ae08-2d52-4290-b9bb-2a60ce0ceeaf",
   "metadata": {},
   "source": [
    "関数 $ g $ と２次のルンゲクッタ法を定義する．"
   ]
  },
  {
   "cell_type": "code",
   "execution_count": 47,
   "id": "b49625c9-41b1-489a-9f19-fae6e938b592",
   "metadata": {},
   "outputs": [],
   "source": [
    "#g(t,x)の定義\n",
    "def g(t,x):\n",
    "    return A@x\n",
    "#二次のルンゲクッタ法の計算関数の定義\n",
    "def RK2(g, t, x, h):\n",
    "    k1 = g(t, x)\n",
    "    k2 = g(t + h, x + h*k1)\n",
    "\n",
    "    return x + (h/2)*(k1 + k2)"
   ]
  },
  {
   "cell_type": "markdown",
   "id": "aa98b83e-da37-4f7b-a16b-8f6a76b59afe",
   "metadata": {},
   "source": [
    "よって $ x(0.1) $ は一回， $ x(0.2) $ は2回ルンゲクッタ法を適用すればいいのでそれぞれ計算すると以下のようになる．"
   ]
  },
  {
   "cell_type": "code",
   "execution_count": 86,
   "id": "cb24e654-a95a-40ef-b656-e14b237a8f3b",
   "metadata": {},
   "outputs": [
    {
     "name": "stdout",
     "output_type": "stream",
     "text": [
      "x( 0.1 ) =  1.96\n",
      "x( 0.2 ) =  1.8559999999999999\n"
     ]
    }
   ],
   "source": [
    "n = 0.2\n",
    "\n",
    "tt = np.arange(0,n,h) #0～10で幅hの配列\n",
    "xx_rk = np.empty((0,2)) #計算結果を格納する配列\n",
    "\n",
    "x_rk = x0 #x_rkの初期化\n",
    "i = 0\n",
    "\n",
    "for ttt in tt:\n",
    "    x_rk = RK2(g, ttt, x_rk, h)\n",
    "    xx_rk = np.concatenate([xx_rk, x_rk.T]) #xx_rkに計算したx_rkの転置を格納\n",
    "    print('x(',ttt + h, ') = ', xx_rk[i][0])\n",
    "    i = i + 1"
   ]
  },
  {
   "cell_type": "markdown",
   "id": "6298e163-91c0-4fd9-b000-526a61c10722",
   "metadata": {},
   "source": [
    "よって求めるべき計算結果は以下のようになる．"
   ]
  },
  {
   "cell_type": "markdown",
   "id": "ba3eaf95-355b-40a8-a75a-425472347257",
   "metadata": {},
   "source": [
    "$$\n",
    "\\begin{align}\n",
    "x(0.1) = 1.96 \\\\\n",
    "x(0.2) = 1.856\n",
    "\\end{align}\n",
    "$$"
   ]
  },
  {
   "cell_type": "markdown",
   "id": "c4c5e492-d217-48d0-97f1-b1ee1107370a",
   "metadata": {},
   "source": [
    "### 解析解と比較する"
   ]
  },
  {
   "cell_type": "markdown",
   "id": "0c4d00a6-7f38-4dc7-8a7e-4058e533f752",
   "metadata": {},
   "source": [
    "解析的に解くと解は"
   ]
  },
  {
   "cell_type": "markdown",
   "id": "ff003ea3-cbea-4ebc-a91d-59b6f11af0c7",
   "metadata": {},
   "source": [
    "$$\n",
    "\\boldsymbol{x}(t) = \\boldsymbol{x}_0\\exp{(At)}\n",
    "$$"
   ]
  },
  {
   "cell_type": "markdown",
   "id": "87879fd2-68fc-4ca5-9752-7345b2b146f9",
   "metadata": {},
   "source": [
    "となる．よって解は以下．"
   ]
  },
  {
   "cell_type": "code",
   "execution_count": 115,
   "id": "ef777047-bb3f-4b23-8da8-4a1e60fa260a",
   "metadata": {},
   "outputs": [
    {
     "data": {
      "text/latex": [
       "$\\displaystyle \\left[\\begin{matrix}\\frac{2 \\cdot \\left(2 \\sqrt{3} - 6 i\\right) e^{2 t \\left(- \\frac{1}{2} - \\frac{\\sqrt{3} i}{2}\\right)}}{\\left(-1 - \\sqrt{3} i\\right) \\left(3 \\sqrt{3} + 3 i\\right)} + \\frac{4 \\sqrt{3} i e^{2 t \\left(- \\frac{1}{2} + \\frac{\\sqrt{3} i}{2}\\right)}}{3 \\left(-1 + \\sqrt{3} i\\right)}\\\\\\frac{2 \\cdot \\left(2 \\sqrt{3} - 6 i\\right) e^{2 t \\left(- \\frac{1}{2} - \\frac{\\sqrt{3} i}{2}\\right)}}{3 \\sqrt{3} + 3 i} + \\frac{4 \\sqrt{3} i e^{2 t \\left(- \\frac{1}{2} + \\frac{\\sqrt{3} i}{2}\\right)}}{3}\\end{matrix}\\right]$"
      ],
      "text/plain": [
       "Matrix([\n",
       "[2*(2*sqrt(3) - 6*I)*exp(2*t*(-1/2 - sqrt(3)*I/2))/((-1 - sqrt(3)*I)*(3*sqrt(3) + 3*I)) + 4*sqrt(3)*I*exp(2*t*(-1/2 + sqrt(3)*I/2))/(3*(-1 + sqrt(3)*I))],\n",
       "[                                      2*(2*sqrt(3) - 6*I)*exp(2*t*(-1/2 - sqrt(3)*I/2))/(3*sqrt(3) + 3*I) + 4*sqrt(3)*I*exp(2*t*(-1/2 + sqrt(3)*I/2))/3]])"
      ]
     },
     "metadata": {},
     "output_type": "display_data"
    }
   ],
   "source": [
    "AA = sp.Matrix(A)\n",
    "x = (AA*t).exp() @x0\n",
    "display(x)"
   ]
  },
  {
   "cell_type": "markdown",
   "id": "5a32d8dd-cbc5-4d2c-b431-771c2d40adf6",
   "metadata": {},
   "source": [
    "これを用いて$ t $ の範囲を$ 0 $ ～ $ 10 $ として解析解と比較してみる"
   ]
  },
  {
   "cell_type": "code",
   "execution_count": 107,
   "id": "bbcf9f81-c8d3-47b6-bf0f-6df742350c23",
   "metadata": {},
   "outputs": [],
   "source": [
    "N = 10\n",
    "\n",
    "TT = np.arange(0,N,h) #0～10で幅hの配列\n",
    "XX_1 = np.empty((0,2)) #解析解用の結果を格納する配列\n",
    "XX_rk = np.empty((0,2)) #計算結果を格納する配列\n",
    "\n",
    "X_rk = x0 #x_rkの初期化\n",
    "\n",
    "for TTT in TT:\n",
    "    X_new = np.array(x.subs(t,TTT).evalf()) #解析解のtに値を代入\n",
    "    X_new1 = [[complex(x).real for x in X_new.T[0]]] #解が虚数だから実部をもってくる\n",
    "    XX_1 = np.concatenate([XX_1, X_new1]) #これは各行がX_iの結果になっており，各列がx_1とx_2\n",
    "    \n",
    "    X_rk = RK2(g, TTT, X_rk, h)\n",
    "    XX_rk = np.concatenate([XX_rk, X_rk.T]) #xx_rkに計算したx_rkの転置を格納"
   ]
  },
  {
   "cell_type": "code",
   "execution_count": 111,
   "id": "086ae012-9590-499f-8309-5dea6e6ca2a2",
   "metadata": {},
   "outputs": [
    {
     "data": {
      "image/png": "[encoded data removed]",
      "text/plain": [
       "<Figure size 1000x800 with 1 Axes>"
      ]
     },
     "metadata": {},
     "output_type": "display_data"
    }
   ],
   "source": [
    "plt.figure(figsize = (10,8))\n",
    "\n",
    "plt.plot(TT, XX_1[:,0], label = 'x')\n",
    "plt.plot(TT, XX_rk[:,0], label = 'x(RK2)')\n",
    "\n",
    "plt.grid()\n",
    "plt.legend(fontsize = 18)\n",
    "plt.show()"
   ]
  },
  {
   "cell_type": "code",
   "execution_count": null,
   "id": "18b73876-4336-49e4-9137-fb5d319ce268",
   "metadata": {},
   "outputs": [],
   "source": []
  }
 ],
 "metadata": {
  "kernelspec": {
   "display_name": "Python 3 (ipykernel)",
   "language": "python",
   "name": "python3"
  },
  "language_info": {
   "codemirror_mode": {
    "name": "ipython",
    "version": 3
   },
   "file_extension": ".py",
   "mimetype": "text/x-python",
   "name": "python",
   "nbconvert_exporter": "python",
   "pygments_lexer": "ipython3",
   "version": "3.12.4"
  }
 },
 "nbformat": 4,
 "nbformat_minor": 5
}
