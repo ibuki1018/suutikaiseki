{
 "cells": [
  {
   "cell_type": "markdown",
   "id": "f9f34240-7b3d-4f09-94f7-9980e77bac97",
   "metadata": {},
   "source": [
    "# 数値解析第９回課題"
   ]
  },
  {
   "cell_type": "markdown",
   "id": "6142d6d9-1be4-4af4-a1c8-efe2d9c795f1",
   "metadata": {},
   "source": [
    "### 学籍番号：08B22182　氏名：平山聖輝"
   ]
  },
  {
   "cell_type": "markdown",
   "id": "6a871c0b-7b3a-45bd-9699-e94d36bca039",
   "metadata": {},
   "source": [
    "課題9"
   ]
  },
  {
   "cell_type": "markdown",
   "id": "a8367bd5-aec9-4d5c-948f-a68a56785c13",
   "metadata": {},
   "source": [
    "分割数2および分割数4に対して，以下の積分を台形則とシンプソン則を用いて計算せよ．"
   ]
  },
  {
   "cell_type": "markdown",
   "id": "ca326627-1930-4f75-a4b2-20e2c11ca7ce",
   "metadata": {},
   "source": [
    "$$\n",
    "f(x) = \\sqrt{2 - x}\n",
    "$$\n",
    "$$\n",
    "F = \\int_1^2{f(x)dx}\n",
    "$$"
   ]
  },
  {
   "cell_type": "markdown",
   "id": "4a207928-49bc-4c3f-9c69-61b2584f1c08",
   "metadata": {},
   "source": [
    "シンプソン則だと分割数が$2N$になることに注意"
   ]
  },
  {
   "cell_type": "code",
   "execution_count": 26,
   "id": "6ea0b02e-2418-4e80-9fe5-066dacb8c91e",
   "metadata": {},
   "outputs": [],
   "source": [
    "import numpy as np\n",
    "import math\n",
    "import operator\n",
    "import matplotlib.pyplot as plt\n",
    "import sympy as sp"
   ]
  },
  {
   "cell_type": "markdown",
   "id": "8d94182d-6dfc-4468-8711-3171c039a0e7",
   "metadata": {},
   "source": [
    "### 関数の定義"
   ]
  },
  {
   "cell_type": "code",
   "execution_count": 29,
   "id": "7f3b2ee5-c37b-4685-a34e-1d26f75d5789",
   "metadata": {},
   "outputs": [
    {
     "data": {
      "text/latex": [
       "$\\displaystyle \\sqrt{2 - x}$"
      ],
      "text/plain": [
       "sqrt(2 - x)"
      ]
     },
     "metadata": {},
     "output_type": "display_data"
    }
   ],
   "source": [
    "x = Symbol('x')\n",
    "f = sp.sqrt(2 - x)\n",
    "display(f)"
   ]
  },
  {
   "cell_type": "code",
   "execution_count": 41,
   "id": "3d0cb250-217a-48b2-9a88-607e82d5981a",
   "metadata": {},
   "outputs": [
    {
     "data": {
      "text/plain": [
       "[<matplotlib.lines.Line2D at 0x205b27d9b20>]"
      ]
     },
     "execution_count": 41,
     "metadata": {},
     "output_type": "execute_result"
    },
    {
     "data": {
      "image/png": "[encoded data removed]",
      "text/plain": [
       "<Figure size 640x480 with 1 Axes>"
      ]
     },
     "metadata": {},
     "output_type": "display_data"
    }
   ],
   "source": [
    "x_g = np.linspace(1, 2, 100) #1～2のfの軌跡を描く\n",
    "y_g = [f.subs(x, i) for i in x_g]\n",
    "plt.plot(x_g, y_g)"
   ]
  },
  {
   "cell_type": "markdown",
   "id": "0671ed17-5eab-4474-b8d6-bb6df367dc69",
   "metadata": {},
   "source": [
    "### 台形則の場合"
   ]
  },
  {
   "cell_type": "markdown",
   "id": "ffa409da-55a4-43c4-9780-038c95f321c7",
   "metadata": {},
   "source": [
    "台形則の更新則は以下のとおりであるから，それぞれの分割数に応じて計算する．"
   ]
  },
  {
   "cell_type": "markdown",
   "id": "340d0aa8-6f8a-4473-a592-241c4d87f0b3",
   "metadata": {},
   "source": [
    "$$\n",
    "S = \\frac{h}{2}(y_0 + y_N + 2\\sum_{i=1}^{N-1}{y_i})\n",
    "$$"
   ]
  },
  {
   "cell_type": "code",
   "execution_count": 88,
   "id": "9b7dce07-d081-4e5f-9a41-c3d12a9680dd",
   "metadata": {},
   "outputs": [],
   "source": [
    "def integrateTrapezoid (f, x_min, x_max, N):\n",
    "    #刻み幅hの定義\n",
    "    h = (x_max - x_min) / N\n",
    "    #linspaceは等差数列を生成する関数，1～2で個数がN+1個の数列がx_h\n",
    "    x_h = np.linspace(x_min, x_max, N+1)\n",
    "    \n",
    "    #i=1～N-1までy_iを足す\n",
    "    sum_y = 0.\n",
    "    for i in range(1,N):\n",
    "        sum_y = sum_y + f.subs(x,x_h[i])\n",
    "\n",
    "    S = h/2 * ( f.subs(x,x_h[0]) + f.subs(x,x_h[-1]) + 2*sum_y)\n",
    "    \n",
    "    return S"
   ]
  },
  {
   "cell_type": "code",
   "execution_count": 90,
   "id": "32901d0b-574c-46d3-9db2-25c9017ef1b8",
   "metadata": {},
   "outputs": [],
   "source": [
    "N1 = 2\n",
    "N2 = 4\n",
    "x_min = 1\n",
    "x_max = 2"
   ]
  },
  {
   "cell_type": "code",
   "execution_count": 94,
   "id": "13cbbfa7-b80d-414a-8f10-63f00be21d22",
   "metadata": {},
   "outputs": [
    {
     "name": "stdout",
     "output_type": "stream",
     "text": [
      "Trapezoid, (N=2) equals  0.603553390593274 \n",
      "\n",
      "Trapezoid, (N=4) equals  0.643283046242747 \n",
      "\n",
      "Integrate reference =  0.666666666666667\n"
     ]
    }
   ],
   "source": [
    "Trape2 = integrateTrapezoid(f, x_min, x_max, N1)\n",
    "Trape4 = integrateTrapezoid(f, x_min, x_max, N2)\n",
    "#ライブラリを用いて確認するう用の変数も作る\n",
    "integrate_ref = integrate(f, (x, x_min, x_max)).evalf()\n",
    "print('Trapezoid, (N=2) equals ', Trape2, '\\n')\n",
    "print('Trapezoid, (N=4) equals ', Trape4, '\\n')\n",
    "print('Integrate reference = ', integrate_ref)"
   ]
  },
  {
   "cell_type": "markdown",
   "id": "ff080217-3462-4f36-a4ff-b5442aff3b35",
   "metadata": {},
   "source": [
    "よって台形則により求めた値は以下のようになる．"
   ]
  },
  {
   "cell_type": "markdown",
   "id": "19040df7-553d-4f99-aef9-0c5167daa41a",
   "metadata": {},
   "source": [
    "$ N = 2 $ の場合"
   ]
  },
  {
   "cell_type": "markdown",
   "id": "da638102-86d0-4363-8a25-f526b69dfd02",
   "metadata": {},
   "source": [
    "$$\n",
    "S_{T2} = 0.603553390593274\n",
    "$$"
   ]
  },
  {
   "cell_type": "markdown",
   "id": "e4a5f4f0-0533-4374-8ad0-f6124380f5e0",
   "metadata": {},
   "source": [
    "$ N =4 $ の場合"
   ]
  },
  {
   "cell_type": "markdown",
   "id": "1fcbecc4-3225-4323-b491-cbafe2ba925e",
   "metadata": {},
   "source": [
    "$$\n",
    "S_{T4} = 0.643283046242747\n",
    "$$"
   ]
  },
  {
   "cell_type": "markdown",
   "id": "260f4fed-b5f1-4d9f-8b87-e92a29d37080",
   "metadata": {},
   "source": [
    "### シンプソン則の場合"
   ]
  },
  {
   "cell_type": "markdown",
   "id": "de351ce9-6758-4e60-befc-00fcf71c9841",
   "metadata": {},
   "source": [
    "シンプソン則の更新則は以下のようになるから大計測のときと同様に計算していく．"
   ]
  },
  {
   "cell_type": "markdown",
   "id": "0e35f544-0072-49e2-b95b-a856a257738b",
   "metadata": {},
   "source": [
    "$$\n",
    "S = \\frac{h}{3}\\sum_{i=0}^{N-1}{(y_{2i} + y_{2i+2} + 4y_{2i+1})}\n",
    "$$"
   ]
  },
  {
   "cell_type": "markdown",
   "id": "559d2771-9b43-45de-a07e-9176e1e01ca8",
   "metadata": {},
   "source": [
    "ただし，台形則のときとは $ h $ が異なり，"
   ]
  },
  {
   "cell_type": "markdown",
   "id": "6e98bccd-4589-4a47-be0a-94f7b0856e22",
   "metadata": {},
   "source": [
    "$$\n",
    "h = \\frac{x_{min} - x_{max}}{2N}\n",
    "$$"
   ]
  },
  {
   "cell_type": "markdown",
   "id": "2bde8da8-d3b2-4a9c-966b-17f6122fb747",
   "metadata": {},
   "source": [
    "となる．"
   ]
  },
  {
   "cell_type": "code",
   "execution_count": 112,
   "id": "1f5cd9c6-ce65-4a23-be0f-5882d5da740a",
   "metadata": {},
   "outputs": [],
   "source": [
    "def integrateSimpson(f, x_min, x_max, N):\n",
    "    h = (x_max - x_min) / (2*N)\n",
    "    x_h = np.linspace(x_min, x_max, 2*N+1)\n",
    "\n",
    "    sum = 0.\n",
    "    for i in range(0,N):\n",
    "        sum = sum + f.subs(x, x_h[2*i]) + f.subs(x, x_h[2*i+2]) + 4*f.subs(x, x_h[2*i+1])\n",
    "\n",
    "    S = h/3 * sum\n",
    "\n",
    "    return S"
   ]
  },
  {
   "cell_type": "code",
   "execution_count": 114,
   "id": "0d7662d4-e248-47bf-934f-6ad88d2eeeb3",
   "metadata": {},
   "outputs": [
    {
     "name": "stdout",
     "output_type": "stream",
     "text": [
      "Simpson, (N=2) equals  0.656526264792571 \n",
      "\n",
      "Simpson, (N=4) equals  0.663079280085024 \n",
      "\n",
      "Integrate reference =  0.666666666666667\n"
     ]
    }
   ],
   "source": [
    "Simp2 = integrateSimpson(f, x_min, x_max, N1)\n",
    "Simp4 = integrateSimpson(f, x_min, x_max, N2)\n",
    "\n",
    "print('Simpson, (N=2) equals ', Simp2, '\\n')\n",
    "print('Simpson, (N=4) equals ', Simp4, '\\n')\n",
    "print('Integrate reference = ', integrate_ref)"
   ]
  },
  {
   "cell_type": "markdown",
   "id": "4f931545-94f2-4a1c-9f87-55f86f2b19c0",
   "metadata": {},
   "source": [
    "よってシンプソン則により求めた積分値は以下のようになる．"
   ]
  },
  {
   "cell_type": "markdown",
   "id": "6cd89c1d-e1fd-4516-ab5f-54d2d2082dbc",
   "metadata": {},
   "source": [
    "$ N = 2 $ の場合"
   ]
  },
  {
   "cell_type": "markdown",
   "id": "85c8877b-d5fa-4b71-a6ad-b09c71b5e433",
   "metadata": {},
   "source": [
    "$$\n",
    "S_{S2} = 0.656526264792571\n",
    "$$"
   ]
  },
  {
   "cell_type": "markdown",
   "id": "ce019f6f-9852-45a9-b6da-bd196cc73f9c",
   "metadata": {},
   "source": [
    "$ N = 4 $ の場合"
   ]
  },
  {
   "cell_type": "markdown",
   "id": "5d6cca0e-b0ef-424c-abe6-f4cafa8817df",
   "metadata": {},
   "source": [
    "$$\n",
    "S_{S4} = 0.663079280085024\n",
    "$$"
   ]
  },
  {
   "cell_type": "markdown",
   "id": "1a997810-9069-48ce-9197-916ab48bf035",
   "metadata": {},
   "source": [
    "### 分割数を $ 10^1 $ ～ $ 10^3 $ にしてみる"
   ]
  },
  {
   "cell_type": "code",
   "execution_count": 136,
   "id": "9a924f90-c3e6-47fc-9ab9-89d5bf60d406",
   "metadata": {},
   "outputs": [],
   "source": [
    "nn = [ int(pow(10,x)) for x in np.linspace(1,3,20)] # 1e1 〜 1e3　\n",
    "\n",
    "st = [integrateTrapezoid(f,x_min,x_max, i) for i in nn]\n",
    "ss = [integrateSimpson(f,x_min,x_max, int(i/2)) for i in nn]  #2N分割するため"
   ]
  },
  {
   "cell_type": "code",
   "execution_count": 137,
   "id": "9e14db3d-8737-41e4-b1eb-cde6fe27a72d",
   "metadata": {},
   "outputs": [
    {
     "data": {
      "image/png": "[encoded data removed]",
      "text/plain": [
       "<Figure size 1000x1000 with 1 Axes>"
      ]
     },
     "metadata": {},
     "output_type": "display_data"
    }
   ],
   "source": [
    "plt.figure(figsize=(10, 10))\n",
    "plt.subplot(3, 1, 1)\n",
    "plt.title('result of integrate')\n",
    "plt.xscale(\"log\")\n",
    "plt.plot(nn,st,'b', label=\"Trapezoid\")\n",
    "plt.plot(nn,ss,'r', label=\"Simpson\")\n",
    "plt.legend()\n",
    "plt.grid()"
   ]
  },
  {
   "cell_type": "code",
   "execution_count": null,
   "id": "02ea5293-da07-45d5-875c-af1bcacaaa25",
   "metadata": {},
   "outputs": [],
   "source": []
  }
 ],
 "metadata": {
  "kernelspec": {
   "display_name": "Python 3 (ipykernel)",
   "language": "python",
   "name": "python3"
  },
  "language_info": {
   "codemirror_mode": {
    "name": "ipython",
    "version": 3
   },
   "file_extension": ".py",
   "mimetype": "text/x-python",
   "name": "python",
   "nbconvert_exporter": "python",
   "pygments_lexer": "ipython3",
   "version": "3.12.4"
  }
 },
 "nbformat": 4,
 "nbformat_minor": 5
}
