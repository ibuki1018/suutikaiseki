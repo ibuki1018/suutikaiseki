{
 "cells": [
  {
   "cell_type": "markdown",
   "id": "5762cf7b-071b-482f-b41f-6d076a7bfd8a",
   "metadata": {},
   "source": [
    "# 数値解析第５回課題"
   ]
  },
  {
   "cell_type": "markdown",
   "id": "b2bf9246-36c9-43f3-b2bc-4d455510b0d3",
   "metadata": {},
   "source": [
    "### 学籍番号：08B22182　氏名：平山聖輝"
   ]
  },
  {
   "cell_type": "markdown",
   "id": "e7e72c7b-0789-469a-b20a-b57409e0647d",
   "metadata": {},
   "source": [
    "課題5"
   ]
  },
  {
   "cell_type": "markdown",
   "id": "956e8f04-491f-458c-9c8f-82fdd4aa2ac0",
   "metadata": {},
   "source": [
    "$$\n",
    "\\begin{equation}\n",
    "\\left\\{\n",
    "\\begin{alignedat}{3}\n",
    "    x_1 + x_2 - 2x_3 = 2 \\\\\n",
    "    3x_1 - 2x_2 + x_3 = 0 \\\\\n",
    "    2x_1 + x_2 - 3x_3 = 1\n",
    "\\end{alignedat}\n",
    "\\right.\n",
    "\\end{equation}\n",
    "$$"
   ]
  },
  {
   "cell_type": "markdown",
   "id": "bf202394-5222-40bb-8e64-31a5d3890c87",
   "metadata": {},
   "source": [
    "の解 $ x = (x_1, x_2, x_3)^T $ を <br>\n",
    "* 反復法（ヤコビ法）\n",
    "* ガウス・サイデル法\n",
    "を用いて，1回目の繰り返しの近似値 $ ( x_{1}^{(1)}, x_{2}^{(1)}, x_{3}^{(1)} )^T = (1, 0, 0)^T $ から2回目の繰り返しの近似値 $ ( x_{1}^{(2)}, x_{2}^{(2)}, x_{3}^{(2)} ) $ を求めよ．"
   ]
  },
  {
   "cell_type": "markdown",
   "id": "8c80e8a8-a197-48f9-8d9d-a7745d29f7a3",
   "metadata": {},
   "source": [
    "与えられた連立一次方程式を行列の形 $ Ax = b $ に書き換えると"
   ]
  },
  {
   "cell_type": "markdown",
   "id": "405f2bda-c2ef-4023-82d3-fd2fde06e2b8",
   "metadata": {},
   "source": [
    "$$\n",
    "A = \\left[\n",
    "\\begin{array}{ccc}\n",
    "1 & 1 & -2 \\\\ 3 & -2 & 1 \\\\ 2 & 1 & -3\n",
    "\\end{array}\n",
    "\\right]\n",
    ", b = \\left[\n",
    "\\begin{array}{c}\n",
    "2 \\\\ 0 \\\\ 1\n",
    "\\end{array}\n",
    "\\right]\n",
    "$$\n"
   ]
  },
  {
   "cell_type": "markdown",
   "id": "6fb71e32-d16a-41ed-a4e5-645356ba5e06",
   "metadata": {},
   "source": [
    "### 反復法（ヤコビ法）"
   ]
  },
  {
   "cell_type": "markdown",
   "id": "2280ba4a-f261-4360-95a7-f8e07e750682",
   "metadata": {},
   "source": [
    "ヤコビ法では与えられた $ Ax =b $ の式における行列 $ A $ を下三角行列 $ L $ ，対角行列 $ D $ ，上三角行列 $ U $ に分解して以下の式変形から繰り返し規則を得て解に近づけるという方法である．"
   ]
  },
  {
   "cell_type": "markdown",
   "id": "1fa8e654-02c5-4957-8f49-2cd95d81b38d",
   "metadata": {},
   "source": [
    "$$\n",
    "Ax = b\n",
    "$$\n",
    "$$\n",
    "(L + D + U)x = b\n",
    "$$\n",
    "$$\n",
    "Dx^{(k+1)} = b - (L + U)x^{(k)}\n",
    "$$\n",
    "$$\n",
    "\\rightarrow x^{(k+1)} = D^{-1} ( b - (L + U)x^{(k)} )\n",
    "$$"
   ]
  },
  {
   "cell_type": "markdown",
   "id": "9d4db896-88c9-45a6-90ee-c65cd81e2ee4",
   "metadata": {},
   "source": [
    "よってまず行列 $ A $ を $ L,D,U $ に分解し，与えられた初期値 $ x^{(1)} $ をもとに繰り返し計算を行うことを考える．各行の計算式は以下"
   ]
  },
  {
   "cell_type": "markdown",
   "id": "f6fe8009-fc77-4854-9303-abe2b13b95f9",
   "metadata": {},
   "source": [
    "$$\n",
    "x_{i}^{(k+1)} = \\Biggr(b_i - \\sum_{j=1}^{i-1}{l_{ij}x_j^{(k)}} - \\sum_{j=i+1}^{n}{u_{ij}x_{j}^{(k)}}\\Biggr)/d_{ii}\n",
    "$$"
   ]
  },
  {
   "cell_type": "code",
   "execution_count": 103,
   "id": "5f62ec03-9d07-4618-9d71-7c6ebd512afe",
   "metadata": {},
   "outputs": [],
   "source": [
    "import numpy as np\n",
    "\n",
    "mat_A = np.array([\n",
    "    [1.0, 1.0, -2.0],\n",
    "    [3.0, -2.0, 1.0],\n",
    "    [2.0, 1.0, -3.0]\n",
    "])\n",
    "\n",
    "vec_b = np.array([\n",
    "    [2.0],\n",
    "    [0.0],\n",
    "    [1.0]\n",
    "])\n",
    "vec_x1 = np.array([\n",
    "    [1.0],\n",
    "    [0.0],\n",
    "    [0.0]\n",
    "])"
   ]
  },
  {
   "cell_type": "code",
   "execution_count": 105,
   "id": "49a6ecb8-512d-48dc-bdb4-765609ba88b4",
   "metadata": {},
   "outputs": [],
   "source": [
    "def Jacobi (mat_A, vec_b, vec_x_previous, times):\n",
    "\n",
    "    # L,U,Dを生成，D=A-L-U\n",
    "    mat_L = np.tril(mat_A, k=-1) #対角以外の下三角行列をとる\n",
    "    mat_U = np.triu(mat_A, k=1) #対角以外の上三角行列をとる\n",
    "    mat_D = mat_A - mat_L - mat_U #D=A-L-U\n",
    "    \n",
    "    # k=num_timesになるまで繰り返し計算\n",
    "    for k in range(1, times):\n",
    "        # 行数と列数の取得\n",
    "        col, row = mat_A.shape\n",
    "        # vec_x_newをcol行1列のベクトルに\n",
    "        vec_x_new = np.array(np.zeros((col, 1)))\n",
    "\n",
    "        # 計算式通りにfor文回す\n",
    "        for i in range(col):\n",
    "            x_temp = vec_b[i, 0]\n",
    "\n",
    "            for j in range(i):\n",
    "                x_temp = x_temp - mat_L[i,j]*vec_x_previous[j,0]\n",
    "\n",
    "            for j in range(i+1, row, 1):\n",
    "                x_temp = x_temp - mat_U[i,j]*vec_x_previous[j,0]\n",
    "\n",
    "            vec_x_new[i,0] = x_temp / mat_D[i,i]\n",
    "\n",
    "        # vec_x_previousを更新\n",
    "        vec_x_previous = vec_x_new\n",
    "        \n",
    "    return vec_x_new"
   ]
  },
  {
   "cell_type": "code",
   "execution_count": 107,
   "id": "961bd635-35fb-4b9b-8a74-ddb7937ff28e",
   "metadata": {},
   "outputs": [
    {
     "data": {
      "text/plain": [
       "array([[2.        ],\n",
       "       [1.5       ],\n",
       "       [0.33333333]])"
      ]
     },
     "execution_count": 107,
     "metadata": {},
     "output_type": "execute_result"
    }
   ],
   "source": [
    "vec_x_jacobi_2 = Jacobi(mat_A, vec_b, vec_x1, 2)\n",
    "vec_x_jacobi_2"
   ]
  },
  {
   "cell_type": "markdown",
   "id": "a2754f92-6210-410b-ae99-c1fe8ff85070",
   "metadata": {},
   "source": [
    "よってヤコビ法により求まる $ x^{(2)} $ は以下．"
   ]
  },
  {
   "cell_type": "markdown",
   "id": "c1235b7e-85a4-4dd2-891a-e742b550fa0d",
   "metadata": {},
   "source": [
    "$$\n",
    "x_J^{(2)} = \\left[\n",
    "\\begin{array}{c}\n",
    "2.0 \\\\ 1.5 \\\\ 1/3\n",
    "\\end{array}\n",
    "\\right]\n",
    "$$"
   ]
  },
  {
   "cell_type": "markdown",
   "id": "803824bd-986e-4277-b091-dd62bf1d9304",
   "metadata": {},
   "source": [
    "### ガウス・サイデル法"
   ]
  },
  {
   "cell_type": "markdown",
   "id": "7cdbcdd6-7393-42ce-8a65-d880aed6e9df",
   "metadata": {},
   "source": [
    "ガウス・サイデル法はヤコビ法の式変形を"
   ]
  },
  {
   "cell_type": "markdown",
   "id": "7259a8ec-c4d3-475a-b919-4f0e42a2f26d",
   "metadata": {},
   "source": [
    "$$\n",
    "Ax=b\n",
    "$$\n",
    "$$\n",
    "(L + D + U)x=b\n",
    "$$\n",
    "$$\n",
    "(D + L)x^{(k+1)} = b - U x^{(k)}\n",
    "$$"
   ]
  },
  {
   "cell_type": "markdown",
   "id": "bb5bcab1-8fee-48bc-8831-627a7b6672ed",
   "metadata": {},
   "source": [
    "として繰り返し計算する手法である．ヤコビ法と似ているが， $ x_i^{(k+1)} (i \\geqq 2) $ の値は掃き出し法の前進消去の要領でひとつ前の値から求めることができるため必要メモリが少なくなる．各要素の計算式は以下．"
   ]
  },
  {
   "cell_type": "markdown",
   "id": "595fc7e2-a606-4057-abfb-a395122eadd9",
   "metadata": {},
   "source": [
    "$$\n",
    "x_{i}^{(k+1)} = \\Biggr( b_i - \\sum_{j=0}^{i-1}{l_{ij}x_{i}^{(k+1)}} - \\sum_{j=i+1}^{n}u_{ij}x_{i}^{(k)} \\Biggr) / d_{ii}\n",
    "$$"
   ]
  },
  {
   "cell_type": "code",
   "execution_count": 109,
   "id": "a51d3222-a3cf-432f-96b4-cc3aad1100a1",
   "metadata": {},
   "outputs": [],
   "source": [
    "def GaussSeidel(mat_A, vec_b, vec_x_previous, times):\n",
    "\n",
    "    #L,U,Dをヤコビ法同様に用意する．\n",
    "    mat_L = np.tril(mat_A, k=-1)\n",
    "    mat_U = np.triu(mat_A, k=1)\n",
    "    mat_D = mat_A - mat_L - mat_U\n",
    "\n",
    "    # k=timesになるまで繰り返し計算\n",
    "    for k in range(1, times):\n",
    "        # 行数と列数の取得\n",
    "        col, row = mat_A.shape\n",
    "        # vec_x_newをcol行1列のベクトルに\n",
    "        vec_x_new = np.array(np.zeros((col, 1)))\n",
    "\n",
    "        # 計算式通りにfor文回す，ほとんどヤコビ法と同じ\n",
    "        for i in range(col):\n",
    "            x_temp = vec_b[i, 0]\n",
    "\n",
    "            for j in range(i):\n",
    "                # ここだけヤコビ法と異なり，vec_x_newで計算できる！\n",
    "                x_temp = x_temp - mat_L[i,j]*vec_x_new[j,0]\n",
    "\n",
    "            for j in range(i+1, row, 1):\n",
    "                x_temp = x_temp - mat_U[i,j]*vec_x_previous[j,0]\n",
    "\n",
    "            vec_x_new[i,0] = x_temp / mat_D[i,i]\n",
    "\n",
    "        # vec_x_previousを更新\n",
    "        vec_x_previous = vec_x_new\n",
    "        \n",
    "    return vec_x_new"
   ]
  },
  {
   "cell_type": "code",
   "execution_count": 111,
   "id": "6121e838-7f82-429b-a107-87a2115b2abd",
   "metadata": {},
   "outputs": [
    {
     "data": {
      "text/plain": [
       "array([[2.],\n",
       "       [3.],\n",
       "       [2.]])"
      ]
     },
     "execution_count": 111,
     "metadata": {},
     "output_type": "execute_result"
    }
   ],
   "source": [
    "vec_x_gs_2 = GaussSeidel(mat_A, vec_b, vec_x1, 2)\n",
    "vec_x_gs_2"
   ]
  },
  {
   "cell_type": "markdown",
   "id": "02d995b4-6aa3-464a-bc40-ca5cc0ea6c1c",
   "metadata": {},
   "source": [
    "よってガウス・サイデル法による $ x^{(2)} $ は以下．"
   ]
  },
  {
   "cell_type": "markdown",
   "id": "4a455d08-f71b-49e9-98db-08b9077a31f1",
   "metadata": {},
   "source": [
    "$$\n",
    "x_{GS}^{(2)} = \\left[\n",
    "\\begin{array}{c}\n",
    "2.0 \\\\ 3.0 \\\\ 2.0\n",
    "\\end{array}\n",
    "\\right]\n",
    "$$"
   ]
  },
  {
   "cell_type": "markdown",
   "id": "cc222115-5301-4e71-8242-2d6f105848ad",
   "metadata": {},
   "source": [
    "### solve関数による両者の比較"
   ]
  },
  {
   "cell_type": "markdown",
   "id": "0522fb75-0270-4460-9215-cb684aabcd13",
   "metadata": {},
   "source": [
    "では各手法で何回繰り返し計算を行えば真の値に近づいたといえるのだろうか．真の解は"
   ]
  },
  {
   "cell_type": "code",
   "execution_count": 140,
   "id": "f197c29e-467d-46f9-b9ca-cd0b780b8316",
   "metadata": {},
   "outputs": [
    {
     "data": {
      "text/plain": [
       "array([[3.5],\n",
       "       [7.5],\n",
       "       [4.5]])"
      ]
     },
     "execution_count": 140,
     "metadata": {},
     "output_type": "execute_result"
    }
   ],
   "source": [
    "vec_x = np.linalg.solve(mat_A, vec_b)\n",
    "vec_x"
   ]
  },
  {
   "cell_type": "markdown",
   "id": "fbdbf575-a4fb-404b-bcb8-ce0af647cc40",
   "metadata": {},
   "source": [
    "より\n",
    "$$\n",
    "x = \\left[\n",
    "\\begin{array}{c}\n",
    "3.5 \\\\ 7.5 \\\\ 4.5\n",
    "\\end{array}\n",
    "\\right]\n",
    "$$"
   ]
  },
  {
   "cell_type": "markdown",
   "id": "d2213f8a-e110-4301-ba66-a17df9b2f91c",
   "metadata": {},
   "source": [
    "どちらの手法でも100回計算を繰り返すと"
   ]
  },
  {
   "cell_type": "code",
   "execution_count": 147,
   "id": "f6f243c0-01ee-4d36-a42d-91eb923a37a9",
   "metadata": {},
   "outputs": [
    {
     "name": "stdout",
     "output_type": "stream",
     "text": [
      "x_jacobi_100 =\n",
      " [[3.49999614]\n",
      " [7.49998841]\n",
      " [4.49999305]] \n",
      "\n",
      "x_gs_100=\n",
      " [[3.5]\n",
      " [7.5]\n",
      " [4.5]] \n",
      "\n"
     ]
    }
   ],
   "source": [
    "vec_x_jacobi_100 = Jacobi(mat_A, vec_b, vec_x1, 100)\n",
    "vec_x_gs_100 = GaussSeidel(mat_A, vec_b, vec_x1, 100)\n",
    "print(\"x_jacobi_100 =\\n\", vec_x_jacobi_100, \"\\n\")\n",
    "print(\"x_gs_100=\\n\", vec_x_gs_100, \"\\n\")"
   ]
  },
  {
   "cell_type": "markdown",
   "id": "69c95313-3b31-4e29-973b-d81256451b30",
   "metadata": {},
   "source": [
    "とヤコビ法の値は真の値とほんの少し（$ 10^{-6} $ ほどの桁）誤差がある．対してガウス・サイデル法の値は表示上の誤差は表れていない．したがってガウス・サイデル法のほうが真の値に近づくのが速い様子が分かる．200回に繰り返し回数を増やすと"
   ]
  },
  {
   "cell_type": "code",
   "execution_count": 150,
   "id": "7de95a00-0aa1-404b-ae55-387133392d34",
   "metadata": {},
   "outputs": [
    {
     "name": "stdout",
     "output_type": "stream",
     "text": [
      "x_jacobi_200 =\n",
      " [[3.5]\n",
      " [7.5]\n",
      " [4.5]] \n",
      "\n",
      "x_gs_200=\n",
      " [[3.5]\n",
      " [7.5]\n",
      " [4.5]] \n",
      "\n"
     ]
    }
   ],
   "source": [
    "vec_x_jacobi_200 = Jacobi(mat_A, vec_b, vec_x1, 200)\n",
    "vec_x_gs_200 = GaussSeidel(mat_A, vec_b, vec_x1, 200)\n",
    "print(\"x_jacobi_200 =\\n\", vec_x_jacobi_200, \"\\n\")\n",
    "print(\"x_gs_200=\\n\", vec_x_gs_200, \"\\n\")"
   ]
  },
  {
   "cell_type": "markdown",
   "id": "86bde7d3-b831-499c-b159-822b686dd63e",
   "metadata": {},
   "source": [
    "と真の値と一致していることが分かる．偏差を逐一計算して許容誤差を下回ったら繰り返しをやめる関数にすれば真の値を無駄なく計算することが可能になることが分かった．"
   ]
  },
  {
   "cell_type": "code",
   "execution_count": null,
   "id": "df6f68f8-220e-4032-8775-eaa22b7a4ce9",
   "metadata": {},
   "outputs": [],
   "source": []
  }
 ],
 "metadata": {
  "kernelspec": {
   "display_name": "Python 3 (ipykernel)",
   "language": "python",
   "name": "python3"
  },
  "language_info": {
   "codemirror_mode": {
    "name": "ipython",
    "version": 3
   },
   "file_extension": ".py",
   "mimetype": "text/x-python",
   "name": "python",
   "nbconvert_exporter": "python",
   "pygments_lexer": "ipython3",
   "version": "3.12.4"
  }
 },
 "nbformat": 4,
 "nbformat_minor": 5
}
