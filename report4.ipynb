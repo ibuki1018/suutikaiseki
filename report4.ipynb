{
 "cells": [
  {
   "cell_type": "markdown",
   "id": "fa176322-9b68-4e12-840d-c09e00e27cae",
   "metadata": {},
   "source": [
    "# 数値解析第４回課題"
   ]
  },
  {
   "cell_type": "markdown",
   "id": "4249fa11-d8d2-47d4-ae4c-ec198d886873",
   "metadata": {},
   "source": [
    "### 学籍番号：08B22182　氏名：平山聖輝"
   ]
  },
  {
   "cell_type": "markdown",
   "id": "d8780937-d007-4883-9583-b6a3bbf260f4",
   "metadata": {},
   "source": [
    "課題4\n",
    "$$\n",
    "\\begin{equation}\n",
    "  \\left\\{ \n",
    "  \\begin{alignedat}{3}   \n",
    "     2x_1 + x_2 - x_3 &= 3 \\\\   \n",
    "     x_1 + 3x_2 + x_3 &= 20 \\\\\n",
    "    -x_1 + x_2 + 4x_3 &= 33 \n",
    "  \\end{alignedat} \n",
    "  \\right.\n",
    "\\end{equation}\n",
    "$$\n",
    "の解 $ x=(x_1,x_2,x_3)^T $ を\n",
    "* 掃き出し法\n",
    "* LU分解を用いる方法\n",
    "の2通りで求めよ．"
   ]
  },
  {
   "cell_type": "markdown",
   "id": "af73549d-52c7-4445-b053-ff5a3544ec3c",
   "metadata": {},
   "source": [
    "連立一次方程式を数値計算的に解く場合，行列 $ A \\in R^{n\\times n} $ ，$ x \\in R^{n\\times n} $ ，$ b \\in R^{n\\times 1} $ を用いて "
   ]
  },
  {
   "cell_type": "markdown",
   "id": "71847870-09d4-485d-95b7-5e4a603c3fc3",
   "metadata": {},
   "source": [
    "$$\n",
    "Ax = b\n",
    "$$"
   ]
  },
  {
   "cell_type": "markdown",
   "id": "d0ef9366-99fb-4860-831d-7776242b4b4a",
   "metadata": {},
   "source": [
    "とかき，行列 $ A $ と $ b $ を基本変形していくことで解 $ x $ を求めることができるというのは授業でも扱った通りである．今回の課題ではその行列を用いた連立一次方程式の解法の中でも特に有名な**掃き出し法**と**LU分解**の2通りで解を計算してみる． $ A $ と $ b $ は以下の通り．"
   ]
  },
  {
   "cell_type": "markdown",
   "id": "83651d21-0099-4b21-b538-3f4db8099fab",
   "metadata": {},
   "source": [
    "$$\n",
    "A = \\left[\n",
    "\\begin{array}{ccc}\n",
    "2 & 1 & -1 \\\\ 1 & 3 & 1 \\\\-1 & 1 & 4\n",
    "\\end{array}\n",
    "\\right]\n",
    ",  \n",
    "b = \\left[\n",
    "\\begin{array}{c}\n",
    "2 \\\\ 20 \\\\ 33\n",
    "\\end{array}\n",
    "\\right]\n",
    "$$"
   ]
  },
  {
   "cell_type": "code",
   "execution_count": 242,
   "id": "e95abea1-fec7-44c3-9ba7-308477cdd92f",
   "metadata": {},
   "outputs": [],
   "source": [
    "import numpy as np\n",
    "\n",
    "mat_A = np.array([\n",
    "    [ 2.0, 1.0, -1.0],\n",
    "    [ 1.0, 3.0, 1.0],\n",
    "    [-1.0, 1.0, 4.0]\n",
    "])\n",
    "vec_b = np.array([\n",
    "    [3.0], \n",
    "    [20.0],\n",
    "    [33.0]\n",
    "])"
   ]
  },
  {
   "cell_type": "markdown",
   "id": "f44d544b-4c1f-4b63-9db5-d49b98392251",
   "metadata": {},
   "source": [
    "### 掃き出し法"
   ]
  },
  {
   "cell_type": "markdown",
   "id": "3c8d9535-cf5c-487b-9f18-9fc3942c3224",
   "metadata": {},
   "source": [
    "以下に掃き出し法の関数を定義する．ただし部分ピボット法により各行で一番大きな絶対値をもつピボットを探し出し，入れ替える行基本変形を施すアルゴリズムになっているため小さな値で割る誤差を防ぐような関数になっている必要があることに注意する．"
   ]
  },
  {
   "cell_type": "code",
   "execution_count": 14,
   "id": "5f5ed97e-3aa0-449e-94af-ae6c7be7af19",
   "metadata": {},
   "outputs": [],
   "source": [
    "def gauss_jordan(mat_A, vec_b):\n",
    "    \n",
    "    mat_Ab = np.concatenate((mat_A, vec_b), axis = 1) #拡大係数行列\n",
    "    #np.concatenateで行列の結合，axis=1は横の結合の意味\n",
    "    print(mat_Ab, \"\\n↓\")\n",
    "    num_vec_x = mat_A.shape[0] #未知数の数\n",
    "\n",
    "    #各行でpivot選択して掃き出す\n",
    "    for pivot in range(num_vec_x):\n",
    "        #pivot列で成分の絶対値が最大の行を探す\n",
    "        row_max = pivot\n",
    "        temp_Ab = mat_Ab.copy() #後でvalue_maxに最も大きいピボットを入れるためにコピーを作っておく\n",
    "        val_max = temp_Ab[pivot, pivot]\n",
    "        for row in range(pivot+1, num_vec_x):\n",
    "            if(val_max < abs(temp_Ab[row,pivot])):\n",
    "                row_max = row\n",
    "                val_max = temp_Ab[row,pivot] #これでmat_Abの値をいじることなくvalue_maxを変更できる\n",
    "        #ピボットの確認\n",
    "        print(\"pivot=\", val_max)\n",
    "\n",
    "        #pivotの行と入れ替え\n",
    "        if (pivot != row_max):\n",
    "            mat_Ab[pivot,:], mat_Ab[row_max,:] = mat_Ab[row_max,:].copy(), mat_Ab[pivot,:].copy()\n",
    "            print(mat_Ab, \"\\n↓\")\n",
    "\n",
    "        #pivot行をpivot=val_maxで割る\n",
    "        mat_Ab[pivot,:] = mat_Ab[pivot,:] / val_max\n",
    "        print(mat_Ab, \"\\n↓\")\n",
    "\n",
    "        #掃き出し操作でpivot行以外の行からpivot行を引く\n",
    "        for row in range(0,num_vec_x):\n",
    "            #mat_Ab[pivot,pivot]=1になっているからpivot行をmat_Ab[row,pivot]倍してrow行から引く\n",
    "            if row != pivot:\n",
    "                pivot_row = mat_Ab[row, pivot] * mat_Ab[pivot, range(pivot, num_vec_x+1)]\n",
    "                                                                    #一列拡大してるから↑\n",
    "                mat_Ab[row, range(pivot, num_vec_x+1)] -= pivot_row\n",
    "                print(mat_Ab, \"\\n↓\")\n",
    "\n",
    "    #解の取り出し\n",
    "    return mat_Ab[:,num_vec_x]\n"
   ]
  },
  {
   "cell_type": "code",
   "execution_count": 250,
   "id": "cf38e355-e442-4ac9-88e8-f7b9ce25774e",
   "metadata": {},
   "outputs": [
    {
     "name": "stdout",
     "output_type": "stream",
     "text": [
      "[[ 2.  1. -1.  3.]\n",
      " [ 1.  3.  1. 20.]\n",
      " [-1.  1.  4. 33.]] \n",
      "↓\n",
      "pivot= 2.0\n",
      "[[ 1.   0.5 -0.5  1.5]\n",
      " [ 1.   3.   1.  20. ]\n",
      " [-1.   1.   4.  33. ]] \n",
      "↓\n",
      "[[ 1.   0.5 -0.5  1.5]\n",
      " [ 0.   2.5  1.5 18.5]\n",
      " [-1.   1.   4.  33. ]] \n",
      "↓\n",
      "[[ 1.   0.5 -0.5  1.5]\n",
      " [ 0.   2.5  1.5 18.5]\n",
      " [ 0.   1.5  3.5 34.5]] \n",
      "↓\n",
      "pivot= 2.5\n",
      "[[ 1.   0.5 -0.5  1.5]\n",
      " [ 0.   1.   0.6  7.4]\n",
      " [ 0.   1.5  3.5 34.5]] \n",
      "↓\n",
      "[[ 1.   0.  -0.8 -2.2]\n",
      " [ 0.   1.   0.6  7.4]\n",
      " [ 0.   1.5  3.5 34.5]] \n",
      "↓\n",
      "[[ 1.   0.  -0.8 -2.2]\n",
      " [ 0.   1.   0.6  7.4]\n",
      " [ 0.   0.   2.6 23.4]] \n",
      "↓\n",
      "pivot= 2.6\n",
      "[[ 1.   0.  -0.8 -2.2]\n",
      " [ 0.   1.   0.6  7.4]\n",
      " [ 0.   0.   1.   9. ]] \n",
      "↓\n",
      "[[1.  0.  0.  5. ]\n",
      " [0.  1.  0.6 7.4]\n",
      " [0.  0.  1.  9. ]] \n",
      "↓\n",
      "[[1. 0. 0. 5.]\n",
      " [0. 1. 0. 2.]\n",
      " [0. 0. 1. 9.]] \n",
      "↓\n",
      "x1= 5.0 \n",
      "x2= 2.000000000000001 \n",
      "x3= 9.0\n"
     ]
    }
   ],
   "source": [
    "x_GJ = gauss_jordan(mat_A, vec_b)\n",
    "print(\"x1=\", x_GJ[0], \"\\nx2=\", x_GJ[1], \"\\nx3=\", x_GJ[2])"
   ]
  },
  {
   "cell_type": "markdown",
   "id": "60f6f36e-45ab-45fd-aea5-bf1945a0e0fb",
   "metadata": {},
   "source": [
    "よって掃き出し法により求められた $ x $ は"
   ]
  },
  {
   "cell_type": "markdown",
   "id": "e327a9c3-7c71-41e9-945c-a4c8fa389989",
   "metadata": {},
   "source": [
    "$$\n",
    "x_{GJ}=\\left[\n",
    "\\begin{array}{c}\n",
    "5.0 \\\\ 2.0 \\\\ 9.0\n",
    "\\end{array}\n",
    "\\right]\n",
    "$$"
   ]
  },
  {
   "cell_type": "markdown",
   "id": "61de6dac-d3b6-4687-9291-0dc1ccb7f021",
   "metadata": {},
   "source": [
    "### LU分解による方法"
   ]
  },
  {
   "cell_type": "markdown",
   "id": "694b02cb-c8ab-45cf-9669-1e90fcd9d90a",
   "metadata": {},
   "source": [
    "今回の課題で扱うLU分解は行列 $ L $ の対角成分が1になるように分解する方法を採用する．講義中では異なる方法が紹介されていたので注意して関数を作成する．"
   ]
  },
  {
   "cell_type": "code",
   "execution_count": 206,
   "id": "67abc2f9-cf31-4a8c-8271-1558a3771a58",
   "metadata": {},
   "outputs": [],
   "source": [
    "def LU_division(mat_A, vec_b):\n",
    "    num_vec_x = mat_A.shape[0] #行数の取得\n",
    "    mat_L = np.eye(num_vec_x) #L=Aと同じn×nの単位行列\n",
    "    mat_U = mat_A.copy() #はじめはU=A\n",
    "    mat_LU = np.concatenate((mat_L, mat_U), axis = 1)\n",
    "    print(mat_LU, \"\\n↓\")\n",
    "    \n",
    "\n",
    "    #A=LUのLU分解を行う\n",
    "    for pivot in range(num_vec_x):\n",
    "        temp_U = mat_U.copy() #mat_Uの情報をいじっちゃわないように逃げのtemp_Uを用意\n",
    "        val = temp_U[pivot, pivot]\n",
    "        #ピボットの確認\n",
    "        print(\"pivot =\", val)\n",
    "\n",
    "        for row in range(pivot+1, num_vec_x):\n",
    "            #pivot以降の行からpivot行をmat_U[row,pivot]/val倍して引く->U\n",
    "            pivot_row = (mat_U[row, pivot] / val) * mat_U[pivot, range(pivot, num_vec_x)]\n",
    "            mat_U[row, range(pivot, num_vec_x)] -= pivot_row\n",
    "            \n",
    "            #L[row, pivot]にmat_U[row,pivot]/valを代入\n",
    "            mat_L[row, pivot] = temp_U[row, pivot] / val\n",
    "\n",
    "            #LUを表示\n",
    "            mat_LU = np.concatenate((mat_L, mat_U), axis = 1)\n",
    "            print(mat_LU, \"\\n↓\")\n",
    "            \n",
    "    return mat_L, mat_U"
   ]
  },
  {
   "cell_type": "code",
   "execution_count": 244,
   "id": "d9daa560-1c2a-4bad-864e-992b31ef2734",
   "metadata": {},
   "outputs": [],
   "source": [
    "def forward_elimination(mat_L, vec_b):\n",
    "    #Ly=bの前進消去を行う\n",
    "    vec_y = np.zeros(vec_b.shape) #yを1×nの行列に\n",
    "    num_vec_x = mat_L.shape[0]\n",
    "\n",
    "    for row in range(0,num_vec_x): #前進0～n-1\n",
    "        y_temp = vec_b[row, 0] #内積の計算をするために逃げの変数用意\n",
    "        for column in range(0, row, 1):\n",
    "            y_temp = y_temp - mat_L[row, column]*vec_y[column, 0] #columnとcolumnで縮約！\n",
    "        vec_y[row, 0] = y_temp / mat_L[row, row] #最後y[row, 0]の係数L[row, row]で割る\n",
    "        print(\"y=\", vec_y, \"\\n↓\")\n",
    "        \n",
    "    return vec_y"
   ]
  },
  {
   "cell_type": "code",
   "execution_count": 246,
   "id": "ebed25f2-7a47-479a-aab7-9ef388a0a84e",
   "metadata": {},
   "outputs": [],
   "source": [
    "def back_substitution(mat_U, vec_y):\n",
    "    #Ux=yの後退代入を行う\n",
    "    vec_x = np.zeros(vec_y.shape)\n",
    "    num_vec_x = mat_U.shape[0]\n",
    "\n",
    "    for row in range(num_vec_x-1, -1, -1): #後退n-1~0\n",
    "        x_temp = vec_y[row] #前進消去と考え方は同じ,forの向きが変わるだけ\n",
    "        for column in range(num_vec_x-1, row, -1):\n",
    "            x_temp = x_temp - mat_U[row, column]*vec_x[column,0]\n",
    "        vec_x[row] = x_temp / mat_U[row, row]\n",
    "        print(\"x=\", vec_x, \"\\n↓\")\n",
    "    \n",
    "    return vec_x"
   ]
  },
  {
   "cell_type": "code",
   "execution_count": 248,
   "id": "54e7139b-d256-470e-8825-f3e4761468fc",
   "metadata": {},
   "outputs": [
    {
     "name": "stdout",
     "output_type": "stream",
     "text": [
      "[[ 1.  0.  0.  2.  1. -1.]\n",
      " [ 0.  1.  0.  1.  3.  1.]\n",
      " [ 0.  0.  1. -1.  1.  4.]] \n",
      "↓\n",
      "pivot = 2.0\n",
      "[[ 1.   0.   0.   2.   1.  -1. ]\n",
      " [ 0.5  1.   0.   0.   2.5  1.5]\n",
      " [ 0.   0.   1.  -1.   1.   4. ]] \n",
      "↓\n",
      "[[ 1.   0.   0.   2.   1.  -1. ]\n",
      " [ 0.5  1.   0.   0.   2.5  1.5]\n",
      " [-0.5  0.   1.   0.   1.5  3.5]] \n",
      "↓\n",
      "pivot = 2.5\n",
      "[[ 1.   0.   0.   2.   1.  -1. ]\n",
      " [ 0.5  1.   0.   0.   2.5  1.5]\n",
      " [-0.5  0.6  1.   0.   0.   2.6]] \n",
      "↓\n",
      "pivot = 2.6\n",
      "y= [[3.]\n",
      " [0.]\n",
      " [0.]] \n",
      "↓\n",
      "y= [[ 3. ]\n",
      " [18.5]\n",
      " [ 0. ]] \n",
      "↓\n",
      "y= [[ 3. ]\n",
      " [18.5]\n",
      " [23.4]] \n",
      "↓\n",
      "x= [[0.]\n",
      " [0.]\n",
      " [9.]] \n",
      "↓\n",
      "x= [[0.]\n",
      " [2.]\n",
      " [9.]] \n",
      "↓\n",
      "x= [[5.]\n",
      " [2.]\n",
      " [9.]] \n",
      "↓\n",
      "x1= [5.] \n",
      "x2= [2.] \n",
      "x3= [9.]\n"
     ]
    }
   ],
   "source": [
    "mat_L, mat_U = LU_division(mat_A, vec_b)\n",
    "vec_y = forward_elimination(mat_L, vec_b)\n",
    "x_LU = back_substitution(mat_U, vec_y)\n",
    "print(\"x1=\", x_LU[0], \"\\nx2=\", x_LU[1], \"\\nx3=\", x_LU[2])"
   ]
  },
  {
   "cell_type": "markdown",
   "id": "a8cb6ac5-3d24-4deb-827a-eb23998034c7",
   "metadata": {},
   "source": [
    "よってLU分解を用いた解 $ x $ は"
   ]
  },
  {
   "cell_type": "markdown",
   "id": "e8633c06-82dd-4a6d-b9dc-6b21154e462f",
   "metadata": {},
   "source": [
    "$$\n",
    "x_{LU}=\\left[\n",
    "\\begin{array}{c}\n",
    "5.0 \\\\ 2.0 \\\\ 9.0\n",
    "\\end{array}\n",
    "\\right]\n",
    "$$"
   ]
  },
  {
   "cell_type": "markdown",
   "id": "8854e2bc-e505-45a6-9a1e-8cb6df10da15",
   "metadata": {},
   "source": [
    "### solver利用"
   ]
  },
  {
   "cell_type": "markdown",
   "id": "e418ce1a-3d40-4596-bf09-ecb88527c94e",
   "metadata": {},
   "source": [
    "最後にnp.solveを用いて検算する"
   ]
  },
  {
   "cell_type": "code",
   "execution_count": 267,
   "id": "3eef2209-b110-4552-ae46-daa11a1e7b39",
   "metadata": {},
   "outputs": [
    {
     "name": "stdout",
     "output_type": "stream",
     "text": [
      "[[5.]\n",
      " [2.]\n",
      " [9.]]\n"
     ]
    }
   ],
   "source": [
    "x_solver = np.linalg.solve(mat_A, vec_b)\n",
    "print(x_solver)"
   ]
  }
 ],
 "metadata": {
  "kernelspec": {
   "display_name": "Python 3 (ipykernel)",
   "language": "python",
   "name": "python3"
  },
  "language_info": {
   "codemirror_mode": {
    "name": "ipython",
    "version": 3
   },
   "file_extension": ".py",
   "mimetype": "text/x-python",
   "name": "python",
   "nbconvert_exporter": "python",
   "pygments_lexer": "ipython3",
   "version": "3.12.4"
  }
 },
 "nbformat": 4,
 "nbformat_minor": 5
}
