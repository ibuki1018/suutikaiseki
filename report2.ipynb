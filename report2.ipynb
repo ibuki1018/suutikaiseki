{
 "cells": [
  {
   "cell_type": "markdown",
   "id": "576cc257-0706-4c4c-859c-8acb57c06856",
   "metadata": {},
   "source": [
    "# 第二回レポート課題「条件数condの計算」"
   ]
  },
  {
   "cell_type": "markdown",
   "id": "a91c8730-79ba-475d-a9e1-6a21b96b9e3d",
   "metadata": {},
   "source": [
    "## 学籍番号：08B22182　　氏名：平山聖輝"
   ]
  },
  {
   "cell_type": "markdown",
   "id": "f21bc439-fd97-4a11-9fe7-376be6b3c123",
   "metadata": {},
   "source": [
    "課題内容：以下の条件数cond(A)を求める．行列Aは以下"
   ]
  },
  {
   "cell_type": "markdown",
   "id": "442d6205-47fc-422f-bb19-78a62ec0b50e",
   "metadata": {},
   "source": [
    "$$\n",
    "A =  \\left(\\begin{array}{cc}  \n",
    "        4 & 2 \\\\ \n",
    "        1 & 3 \n",
    "     \\end{array}\\right)\n",
    "$$"
   ]
  },
  {
   "cell_type": "code",
   "execution_count": 4,
   "id": "5b3b086e-985c-4f36-9872-48febb21215a",
   "metadata": {},
   "outputs": [],
   "source": [
    "import numpy as np\n",
    "from numpy import linalg"
   ]
  },
  {
   "cell_type": "code",
   "execution_count": 10,
   "id": "80c18c86-f5f0-455a-81fd-95557145bc65",
   "metadata": {},
   "outputs": [
    {
     "name": "stdout",
     "output_type": "stream",
     "text": [
      "[[4 2]\n",
      " [1 3]]\n"
     ]
    }
   ],
   "source": [
    "A = np.array([[4,2], [1,3]])\n",
    "print(A)"
   ]
  },
  {
   "cell_type": "markdown",
   "id": "26eef9d2-d605-42b0-9374-8f94c2bd3682",
   "metadata": {},
   "source": [
    "まず，条件数(cond)について定義を確認すると行列Aが正則な時，講義の内容から以下のような式で表されることが分かる．（Aが正則でなければ条件数は単に $ \\infty $ になる）"
   ]
  },
  {
   "cell_type": "markdown",
   "id": "3c1c9361-e799-4d48-bd41-c6542b23c6e1",
   "metadata": {},
   "source": [
    "$$\n",
    "cond(A) = ||A|| \\cdot ||A^{-1}||\n",
    "$$"
   ]
  },
  {
   "cell_type": "markdown",
   "id": "fe4cb0f9-37af-4a3c-a0b1-d65c6ec51b0f",
   "metadata": {},
   "source": [
    "ここで行列のノルムが登場するが，今回の課題では1ノルムと2ノルムの二つの場合で条件数を求める．"
   ]
  },
  {
   "cell_type": "markdown",
   "id": "5bf33207-2293-4bfb-8f4f-e502f552e336",
   "metadata": {},
   "source": [
    "### 1ノルムのとき"
   ]
  },
  {
   "cell_type": "markdown",
   "id": "b35ea0b6-e85f-477a-8cd9-92f38e9f91ca",
   "metadata": {},
   "source": [
    "行列の1ノルムは各列の成分の絶対和のうち最大のものである．"
   ]
  },
  {
   "cell_type": "markdown",
   "id": "cf33ece3-d324-48fb-84f9-98b14ed874eb",
   "metadata": {},
   "source": [
    "$$\n",
    "||A||_1 = \\max_j \\sum^{n}_{i=1}{|a_{ij}|}\n",
    "$$"
   ]
  },
  {
   "cell_type": "markdown",
   "id": "89ed5e36-b8bc-4d19-ad65-45a4233ecfd1",
   "metadata": {},
   "source": [
    "よってまずはAの逆行列を求める必要がある．ここで逆行列についてだが，行列のサイズが大きくなると逆行列を求める計算コストが大きくなってしまうためなるべく避けなければならないことは知っておく必要がある．"
   ]
  },
  {
   "cell_type": "code",
   "execution_count": 34,
   "id": "b96f5582-841d-479e-8630-77a382fbfbb3",
   "metadata": {},
   "outputs": [
    {
     "name": "stdout",
     "output_type": "stream",
     "text": [
      "[[ 0.3 -0.2]\n",
      " [-0.1  0.4]]\n"
     ]
    }
   ],
   "source": [
    "Ainv = np.linalg.inv(A)\n",
    "print(Ainv)"
   ]
  },
  {
   "cell_type": "markdown",
   "id": "58c55d6c-4792-47b8-be97-34353083a2b8",
   "metadata": {},
   "source": [
    "上の $ A^{-1} $ の結果と，初めに表示した $ A $ の結果を見ると $ A $, $ A^{-1} $ の1ノルムはそれぞれ"
   ]
  },
  {
   "cell_type": "markdown",
   "id": "71711a04-fece-4150-beee-4cbff18b44fb",
   "metadata": {},
   "source": [
    "\\begin{align}\n",
    "&||A|| = \\max{[(4+1), (2+3)]} = 5 \\\\\n",
    "&||A^{-1}|| = \\max{[(0.3+0.1), (0.2+0.4)]} = 0.6\n",
    "\\end{align}"
   ]
  },
  {
   "cell_type": "markdown",
   "id": "d13c36ab-adb7-4d0b-980e-e255a6ef997a",
   "metadata": {},
   "source": [
    "となることが分かるから1ノルムにおける条件数は\n",
    "$$ cond(A)_1 = 5 \\times 0.6 = 3 $$\n",
    "ということが分かる．実際に1ノルムをそれぞれ計算すると"
   ]
  },
  {
   "cell_type": "code",
   "execution_count": 60,
   "id": "1db620fb-6107-48fc-9637-e22b113ff880",
   "metadata": {},
   "outputs": [
    {
     "name": "stdout",
     "output_type": "stream",
     "text": [
      "5.0×0.6000000000000001=3.0000000000000004\n",
      "3.0000000000000004\n"
     ]
    }
   ],
   "source": [
    "A1 = np.linalg.norm(A,1) # A1はAの1ノルム\n",
    "Ainv1 = np.linalg.norm(Ainv,1) # Ainv1はA^-1の1ノルム\n",
    "cond1 = A1 * Ainv1\n",
    "print(str(A1) + \"×\" + str(Ainv1) + \"=\" + str(cond1))\n",
    "print(np.linalg.cond(A,1))"
   ]
  },
  {
   "cell_type": "markdown",
   "id": "2f693c05-954f-494f-bb28-e0befce8aed8",
   "metadata": {},
   "source": [
    "と両者が一致している様子が計算機上でも確認できた．（17桁目の値が少しおかしく，調べたところ小数を2進数で表すには分数の近似を行っていることが原因だった．10進法でも $ 3 / 10 $ が $ 0.333333... $であるように2進法では $ 1/10 $ が $ 0.00011001100... $となってしまうようだ）"
   ]
  },
  {
   "cell_type": "markdown",
   "id": "5d037843-a588-47f0-b15c-92355a3ebe39",
   "metadata": {},
   "source": [
    "### 2ノルムのとき"
   ]
  },
  {
   "cell_type": "markdown",
   "id": "904ef19b-9126-488f-9554-fef959256659",
   "metadata": {},
   "source": [
    "行列の2ノルムは条件数は $ A^{T}A $ の最大固有値と最小固有値の比になり，式で表すと"
   ]
  },
  {
   "cell_type": "markdown",
   "id": "923a2e58-e66f-4d05-871c-60efeb42219a",
   "metadata": {},
   "source": [
    "$$\n",
    "cond(A) = \\sqrt{\\frac{\\lambda_{max}(A^{T}A)}{\\lambda_{min}(A^{T}A)}}\n",
    "$$"
   ]
  },
  {
   "cell_type": "markdown",
   "id": "2a4720df-c305-4d19-838a-153c4d19f6ba",
   "metadata": {},
   "source": [
    "となることは講義中でも紹介された．2ノルムの利点は $ A^{-1} $ を計算することなく，条件数を求められることにある．$ A $ の定義から $ A^{T}A $ は以下のように計算できる．"
   ]
  },
  {
   "cell_type": "code",
   "execution_count": 103,
   "id": "0466d303-5989-420c-bd95-970fac86ca74",
   "metadata": {},
   "outputs": [
    {
     "name": "stdout",
     "output_type": "stream",
     "text": [
      "[[17 11]\n",
      " [11 13]]\n"
     ]
    }
   ],
   "source": [
    "A = np.array([[4, 2],[1, 3]])\n",
    "AT = np.array([[4, 1],[2, 3]])\n",
    "ATA = AT @ A # 行列の積は\" @ \"で行う．\" * \"をすると要素同士を掛け合わせるだけになる\n",
    "print(str(ATA))"
   ]
  },
  {
   "cell_type": "markdown",
   "id": "1f9073a8-f9fd-404f-9bf4-ad7123d594ea",
   "metadata": {},
   "source": [
    "$$\n",
    "A^{T}A = \\left(\\begin{array}{cc}\n",
    "    4 & 1 \\\\\n",
    "    2 & 3 \n",
    "    \\end{array}\\right)\n",
    "    \\left(\\begin{array}{cc}\n",
    "    4 & 2 \\\\\n",
    "    1 & 3 \n",
    "    \\end{array}\\right) =\n",
    "     \\left(\\begin{array}{cc}\n",
    "    17 & 11 \\\\\n",
    "    11 & 13 \n",
    "    \\end{array}\\right)\n",
    "$$"
   ]
  },
  {
   "cell_type": "markdown",
   "id": "3ffd9523-760f-4faa-9baf-8fa1405455bd",
   "metadata": {},
   "source": [
    "したがって $ A^{T}A $ の固有値は以下のようになる．"
   ]
  },
  {
   "cell_type": "code",
   "execution_count": 97,
   "id": "1c1c6f34-adfb-4ce0-9a55-d33dd225e72d",
   "metadata": {},
   "outputs": [
    {
     "data": {
      "text/plain": [
       "EigResult(eigenvalues=array([26.18033989,  3.81966011]), eigenvectors=array([[ 0.76775173, -0.64074744],\n",
       "       [ 0.64074744,  0.76775173]]))"
      ]
     },
     "execution_count": 97,
     "metadata": {},
     "output_type": "execute_result"
    }
   ],
   "source": [
    "np.linalg.eig(ATA)"
   ]
  },
  {
   "cell_type": "markdown",
   "id": "e6ac1079-3b32-4e17-b292-bfc7c7b9a6b4",
   "metadata": {},
   "source": [
    "実際に固有多項式を解くと\n",
    "$$ \n",
    "\\begin{array}{|cc|}\n",
    "    (\\lambda - 17) & -11 \\\\\n",
    "    -11 & (\\lambda -13) \n",
    "\\end{array} =\n",
    "(\\lambda-17)(\\lambda-13)-121 = \\lambda^2-30\\lambda+100 =0\n",
    "$$ $$\n",
    "\\Leftrightarrow \\lambda = 15 \\pm 5\\sqrt{15} \\approx 26.18033989, 3.8196011\n",
    "$$\n"
   ]
  },
  {
   "cell_type": "markdown",
   "id": "332e8d93-16a4-48a2-9b67-dcbba551967f",
   "metadata": {},
   "source": [
    "と確かにそれぞれの固有値が求まっていることが確かめられる．$ A $ が $ 2 \\times 2 $ の行列であるから固有値は２つだけで，最小最大は明らかに求まる．$ cond(A) \\ge 1 $ であることから両者の比を求めると"
   ]
  },
  {
   "cell_type": "code",
   "execution_count": 131,
   "id": "0efc5685-2eae-42b9-b92b-c83132dd0b6d",
   "metadata": {},
   "outputs": [
    {
     "name": "stdout",
     "output_type": "stream",
     "text": [
      "2.618033988749895\n"
     ]
    }
   ],
   "source": [
    "l,v = np.linalg.eig(ATA) # linalg.eigは97行目を見るとわかるように固有値と固有ベクトルの二つのデータを保管しているので固有値ベクトルの入っている配列をvでちゃんと定義してやる必要がある\n",
    "print(np.sqrt(max(l)/min(l)))"
   ]
  },
  {
   "cell_type": "markdown",
   "id": "ca33c096-fa80-4ab0-8e73-d946cdd90687",
   "metadata": {},
   "source": [
    "と2ノルムにおける条件数が求まった．確認すると"
   ]
  },
  {
   "cell_type": "code",
   "execution_count": 124,
   "id": "15a7a80a-1376-4916-bf8a-b254e793cb6d",
   "metadata": {},
   "outputs": [
    {
     "name": "stdout",
     "output_type": "stream",
     "text": [
      "2.618033988749895\n"
     ]
    }
   ],
   "source": [
    "print(np.linalg.cond(A,2))"
   ]
  },
  {
   "cell_type": "markdown",
   "id": "998067af-7c0e-4051-8777-3f60b31c9e23",
   "metadata": {},
   "source": [
    "と値が同じことが確認できる．\n",
    "$$\n",
    "cond(A)_2 = 2.618033988749895\n",
    "$$"
   ]
  },
  {
   "cell_type": "code",
   "execution_count": null,
   "id": "ab6d899b-edf5-48a3-8872-ae8e186b21da",
   "metadata": {},
   "outputs": [],
   "source": []
  }
 ],
 "metadata": {
  "kernelspec": {
   "display_name": "Python 3 (ipykernel)",
   "language": "python",
   "name": "python3"
  },
  "language_info": {
   "codemirror_mode": {
    "name": "ipython",
    "version": 3
   },
   "file_extension": ".py",
   "mimetype": "text/x-python",
   "name": "python",
   "nbconvert_exporter": "python",
   "pygments_lexer": "ipython3",
   "version": "3.12.4"
  }
 },
 "nbformat": 4,
 "nbformat_minor": 5
}
